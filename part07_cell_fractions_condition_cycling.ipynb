{
 "cells": [
  {
   "cell_type": "markdown",
   "metadata": {},
   "source": [
    "# Plot cell fractions by condition, population, cell cycle"
   ]
  },
  {
   "cell_type": "markdown",
   "metadata": {},
   "source": [
    "## Import statements"
   ]
  },
  {
   "cell_type": "code",
   "execution_count": 79,
   "metadata": {},
   "outputs": [],
   "source": [
    "import os,sys\n",
    "import datetime"
   ]
  },
  {
   "cell_type": "code",
   "execution_count": 80,
   "metadata": {},
   "outputs": [
    {
     "name": "stdout",
     "output_type": "stream",
     "text": [
      "scanpy==1.4.4.post1 anndata==0.6.22.post1 umap==0.3.7 numpy==1.15.4 scipy==1.3.1 pandas==0.23.4 scikit-learn==0.20.1 statsmodels==0.10.1 python-igraph==0.7.1 louvain==0.6.1\n",
      "Memory usage: current 0.01 GB, difference -0.18 GB\n"
     ]
    }
   ],
   "source": [
    "import scanpy as sc\n",
    "sc.logging.print_versions()\n",
    "sc.logging.print_memory_usage()\n",
    "sc.settings.verbosity = 2"
   ]
  },
  {
   "cell_type": "code",
   "execution_count": 81,
   "metadata": {},
   "outputs": [],
   "source": [
    "## This cell is run once to download my custom functions and import statements from github\n",
    "#\n",
    "#!git clone --depth=1 https://github.com/rapolaszilionis/utility_functions\n",
    "#    \n",
    "## github doesn't seem to have an option to download a specific version of the repo from the history.\n",
    "## So I download my utility functions and save the download time by appending it to the directory name.\n",
    "## These utility functions to be shared together with the notebook.\n",
    "#\n",
    "#toappend = datetime.datetime.now().strftime('%y%m%d_%Hh%M')\n",
    "#newname = \"utility_functions_%s\"%toappend\n",
    "#print(newname)\n",
    "#\n",
    "#\n",
    "## rename the py file with utility functions\n",
    "#os.rename(\"utility_functions\",newname)"
   ]
  },
  {
   "cell_type": "code",
   "execution_count": 82,
   "metadata": {},
   "outputs": [],
   "source": [
    "# add the utility function folder to PATH\n",
    "sys.path.append(os.path.abspath(\"utility_functions_210525_14h42/\"))\n",
    "\n",
    "from rz_import_statements import *\n",
    "import rz_functions as rz\n",
    "import rz_fig_params # this adjust mpl.rcParams, almost nothing to import, import after scanpy to overwrite rc.Params\n",
    "import rz_utility_spring as srz"
   ]
  },
  {
   "cell_type": "markdown",
   "metadata": {},
   "source": [
    "## More functions"
   ]
  },
  {
   "cell_type": "code",
   "execution_count": 83,
   "metadata": {},
   "outputs": [],
   "source": [
    "def get_cell_counts(\n",
    "    label1,\n",
    "    label2,\n",
    "    meta):\n",
    "    \n",
    "    twocols = meta[[label1,label2]]\n",
    "    if twocols.shape[0]!=(twocols.dropna()).shape[0]:\n",
    "        print(\"NaN values in meta dataframe provided\")\n",
    "        return\n",
    "    cs = meta.groupby([label1,label2]).count().iloc[:,0]\n",
    "    cframe = pd.DataFrame(columns=cs.index.levels[0]\n",
    "                          ,index = cs.index.levels[1])\n",
    "    for i in cs.index.levels[0]:\n",
    "        cframe[i] = cs[i]\n",
    "    cframe.fillna(0,inplace=True)\n",
    "    return cframe\n",
    "\n",
    "rz.get_cell_counts = get_cell_counts\n",
    "del get_cell_counts"
   ]
  },
  {
   "cell_type": "code",
   "execution_count": 84,
   "metadata": {},
   "outputs": [],
   "source": [
    "def plot_stacked_bars(\n",
    "    cframe,\n",
    "    w = 50,\n",
    "    h = 5,\n",
    "    color_dict=None,\n",
    "    title='',\n",
    "    save=False,\n",
    "    ylabel='',\n",
    "    xlabel='',\n",
    "    comment='',\n",
    "    rotation=90,\n",
    "    ncol=2,\n",
    "    barwidth=0.8,\n",
    "    wrs=[1,1],\n",
    "    rect = [0.05,0,1,1],\n",
    "    colrenamer = {},\n",
    "    joinbars = True,\n",
    "    baralpha = 1,\n",
    "    polyalpha = 0.5,\n",
    "    \n",
    "    ):\n",
    "    \"\"\"\n",
    "    ncol - nr columns for legend\n",
    "    wrs - ratio of bar width (all bars) vs legend width\n",
    "    \n",
    "    \"\"\"\n",
    "\n",
    "    a,fig,gs=rz.startfig(w,h,columns=2,wrs=wrs)\n",
    "    x = np.arange(cframe.shape[1])\n",
    "    bottom = np.repeat(0,cframe.shape[1])\n",
    "    #hack to reverse the order in the legend\n",
    "    brs = []\n",
    "    lbls = cframe.index\n",
    "    \n",
    "    # for plotting bar-connecting lines\n",
    "    gaps = [[lx1,lx2] for lx1,lx2 in zip(x[:-1]+barwidth/2.,x[1:]-barwidth/2.)]\n",
    "    \n",
    "    if color_dict is None:\n",
    "        color_dict = {key:None for key in cframe.index}\n",
    "        \n",
    "    for ctype in cframe.index:\n",
    "        h = cframe.loc[ctype]\n",
    "        br = a.bar(x,h,barwidth, bottom,label=ctype,color=color_dict[ctype],alpha=baralpha)\n",
    "        brs.append(br)\n",
    "        ybottoms=[[b1,b2] for b1, b2 in zip(bottom[:-1],bottom[1:])]\n",
    "        bottom=bottom+h\n",
    "        ytops = [[t1,t2] for t1, t2 in zip(bottom[:-1],bottom[1:])]\n",
    "        \n",
    "        if joinbars:\n",
    "            for linex,by,ty in zip(gaps,ybottoms,ytops):\n",
    "                xy = np.array([\n",
    "                                [linex[0],by[0]],\n",
    "                                [linex[0],ty[0]],\n",
    "                                [linex[1],ty[1]],\n",
    "                                [linex[1],by[1]]\n",
    "                              ])\n",
    "                \n",
    "                #a.plot(linex,liney,lw=1,color='0.5')\n",
    "                polygone = mpl.patches.Polygon(xy, closed=True,lw=0,facecolor=color_dict[ctype],alpha=polyalpha)\n",
    "                a.add_patch(polygone)\n",
    "        \n",
    "    a.legend(brs[::-1],lbls[::-1],ncol=ncol,bbox_to_anchor=(1,1),fontsize=5)\n",
    "    a.set_xticks(x)\n",
    "    xticklabels = [colrenamer[i] if i in colrenamer else i for i in cframe.columns]   \n",
    "    a.set_xticklabels(xticklabels,rotation=rotation);\n",
    "    a.set_title(title)\n",
    "    rz.showspines(a,left=True,bottom=True)\n",
    "    a.set_ylabel(ylabel)\n",
    "    a.set_xlabel(xlabel)\n",
    "\n",
    "    gs.tight_layout(fig,rect=rect)\n",
    "    if save==True:\n",
    "        plt.savefig('postannotoutputs/stacked_bars_%s.pdf'%comment)\n",
    "    plt.show()"
   ]
  },
  {
   "cell_type": "markdown",
   "metadata": {},
   "source": [
    "## Load data"
   ]
  },
  {
   "cell_type": "code",
   "execution_count": 85,
   "metadata": {},
   "outputs": [],
   "source": [
    "adata = sc.read_h5ad('backups/mito_total_counts_filt_raw_32415x36601_210622_20h17.h5ad')"
   ]
  },
  {
   "cell_type": "code",
   "execution_count": 86,
   "metadata": {},
   "outputs": [],
   "source": [
    "# load obs with classifier results\n",
    "adata.obs = rz.load_df('backups/obs_info_32415x18_211010_11h51.npz')"
   ]
  },
  {
   "cell_type": "code",
   "execution_count": 87,
   "metadata": {},
   "outputs": [
    {
     "name": "stdout",
     "output_type": "stream",
     "text": [
      "normalizing by total count per cell\n",
      "    finished (0:00:00): normalized adata.X and added    'n_counts', counts per cell before normalization (adata.obs)\n"
     ]
    }
   ],
   "source": [
    "# normalize\n",
    "sc.pp.normalize_per_cell(adata,counts_per_cell_after=1e4)"
   ]
  },
  {
   "cell_type": "markdown",
   "metadata": {},
   "source": [
    "## Load color dictionary used in SPRING explorer"
   ]
  },
  {
   "cell_type": "code",
   "execution_count": 88,
   "metadata": {},
   "outputs": [],
   "source": [
    "path1 = \"/Users/rapolaszilionis/Google Drive/DG/tmp_for_S3/20210616_RZ_macrophage_fastq_and_counts/quick_analysis_spring_plot/SPRING_dev-master/data/\"\n",
    "project_dir = path1+'/mamito/'\n",
    "plot_name = 'all_above_900_UMAP_no_cc_2000/'"
   ]
  },
  {
   "cell_type": "code",
   "execution_count": 89,
   "metadata": {},
   "outputs": [],
   "source": [
    "# load current color dictionary\n",
    "cg0 = srz.read_cell_groupings(project_dir+plot_name+'/categorical_coloring_data.json')\n",
    "\n",
    "# color dictionary\n",
    "cdd = {key:value['label_colors'] for key,value in cg0.items()}"
   ]
  },
  {
   "cell_type": "code",
   "execution_count": 90,
   "metadata": {},
   "outputs": [
    {
     "data": {
      "text/plain": [
       "{'G0': '#008080', 'G1S': '#FFAE00', 'G2M': '#FF0000'}"
      ]
     },
     "execution_count": 90,
     "metadata": {},
     "output_type": "execute_result"
    }
   ],
   "source": [
    "cdd['phase']"
   ]
  },
  {
   "cell_type": "markdown",
   "metadata": {},
   "source": [
    "## Save in a dedicated output folder"
   ]
  },
  {
   "cell_type": "code",
   "execution_count": 91,
   "metadata": {},
   "outputs": [],
   "source": [
    "!mkdir -p postannotoutputs"
   ]
  },
  {
   "cell_type": "markdown",
   "metadata": {},
   "source": [
    "## Get fractions of cells per condition"
   ]
  },
  {
   "cell_type": "markdown",
   "metadata": {},
   "source": [
    "### Fraction population"
   ]
  },
  {
   "cell_type": "code",
   "execution_count": 92,
   "metadata": {},
   "outputs": [
    {
     "name": "stdout",
     "output_type": "stream",
     "text": [
      "32415 32415\n"
     ]
    }
   ],
   "source": [
    "cmask = np.repeat(True,adata.shape[0])\n",
    "print(cmask.sum(),len(cmask))\n",
    "col1 = 'condition'\n",
    "col2 = 'population'\n",
    "cell_counts = rz.get_cell_counts(col1,col2,adata.obs[cmask])"
   ]
  },
  {
   "cell_type": "code",
   "execution_count": 93,
   "metadata": {},
   "outputs": [],
   "source": [
    "# Order as to have the most abundant cell types first (using the first column)\n",
    "order = cell_counts.iloc[:,0].sort_values(ascending=False).index\n",
    "cell_counts = cell_counts.loc[order]"
   ]
  },
  {
   "cell_type": "code",
   "execution_count": 94,
   "metadata": {},
   "outputs": [
    {
     "data": {
      "text/html": [
       "<div>\n",
       "<style scoped>\n",
       "    .dataframe tbody tr th:only-of-type {\n",
       "        vertical-align: middle;\n",
       "    }\n",
       "\n",
       "    .dataframe tbody tr th {\n",
       "        vertical-align: top;\n",
       "    }\n",
       "\n",
       "    .dataframe thead th {\n",
       "        text-align: right;\n",
       "    }\n",
       "</style>\n",
       "<table border=\"1\" class=\"dataframe\">\n",
       "  <thead>\n",
       "    <tr style=\"text-align: right;\">\n",
       "      <th>condition</th>\n",
       "      <th>Control</th>\n",
       "      <th>KIPyV VLPs</th>\n",
       "      <th>MCPyV VLPs</th>\n",
       "    </tr>\n",
       "    <tr>\n",
       "      <th>population</th>\n",
       "      <th></th>\n",
       "      <th></th>\n",
       "      <th></th>\n",
       "    </tr>\n",
       "  </thead>\n",
       "  <tbody>\n",
       "    <tr>\n",
       "      <th>MA</th>\n",
       "      <td>3662</td>\n",
       "      <td>1154</td>\n",
       "      <td>1672</td>\n",
       "    </tr>\n",
       "    <tr>\n",
       "      <th>RS</th>\n",
       "      <td>3064</td>\n",
       "      <td>176</td>\n",
       "      <td>163</td>\n",
       "    </tr>\n",
       "    <tr>\n",
       "      <th>PA</th>\n",
       "      <td>2191</td>\n",
       "      <td>369</td>\n",
       "      <td>407</td>\n",
       "    </tr>\n",
       "    <tr>\n",
       "      <th>SS</th>\n",
       "      <td>692</td>\n",
       "      <td>1148</td>\n",
       "      <td>1457</td>\n",
       "    </tr>\n",
       "    <tr>\n",
       "      <th>Dead</th>\n",
       "      <td>164</td>\n",
       "      <td>693</td>\n",
       "      <td>544</td>\n",
       "    </tr>\n",
       "    <tr>\n",
       "      <th>AII</th>\n",
       "      <td>115</td>\n",
       "      <td>2204</td>\n",
       "      <td>3126</td>\n",
       "    </tr>\n",
       "    <tr>\n",
       "      <th>AI</th>\n",
       "      <td>113</td>\n",
       "      <td>4717</td>\n",
       "      <td>3188</td>\n",
       "    </tr>\n",
       "    <tr>\n",
       "      <th>HA</th>\n",
       "      <td>57</td>\n",
       "      <td>380</td>\n",
       "      <td>663</td>\n",
       "    </tr>\n",
       "    <tr>\n",
       "      <th>IR</th>\n",
       "      <td>8</td>\n",
       "      <td>20</td>\n",
       "      <td>268</td>\n",
       "    </tr>\n",
       "  </tbody>\n",
       "</table>\n",
       "</div>"
      ],
      "text/plain": [
       "condition   Control  KIPyV VLPs  MCPyV VLPs\n",
       "population                                 \n",
       "MA             3662        1154        1672\n",
       "RS             3064         176         163\n",
       "PA             2191         369         407\n",
       "SS              692        1148        1457\n",
       "Dead            164         693         544\n",
       "AII             115        2204        3126\n",
       "AI              113        4717        3188\n",
       "HA               57         380         663\n",
       "IR                8          20         268"
      ]
     },
     "execution_count": 94,
     "metadata": {},
     "output_type": "execute_result"
    }
   ],
   "source": [
    "cell_counts"
   ]
  },
  {
   "cell_type": "code",
   "execution_count": 95,
   "metadata": {},
   "outputs": [
    {
     "data": {
      "image/png": "[encoded data removed]",
      "text/plain": [
       "<Figure size 354.331x295.276 with 1 Axes>"
      ]
     },
     "metadata": {
      "needs_background": "light"
     },
     "output_type": "display_data"
    }
   ],
   "source": [
    "cell_fracs = cell_counts/cell_counts.sum()*100.\n",
    "plot_stacked_bars(cell_fracs,\n",
    "                  color_dict=cdd[col2],\n",
    "                  xlabel='condition',ylabel='% cells',\n",
    "                  w=6,\n",
    "                  wrs=[5,1],\n",
    "                  barwidth=0.8,\n",
    "                  save=True,\n",
    "                  comment='cond_by_pop',\n",
    "                  polyalpha=0.5,\n",
    "                  joinbars = True)"
   ]
  },
  {
   "cell_type": "code",
   "execution_count": 96,
   "metadata": {},
   "outputs": [
    {
     "data": {
      "image/png": "[encoded data removed]",
      "text/plain": [
       "<Figure size 354.331x295.276 with 1 Axes>"
      ]
     },
     "metadata": {
      "needs_background": "light"
     },
     "output_type": "display_data"
    }
   ],
   "source": [
    "cell_fracs = cell_counts/cell_counts.sum()*100.\n",
    "plot_stacked_bars(cell_fracs,\n",
    "                  color_dict=cdd[col2],\n",
    "                  xlabel='condition',ylabel='% cells',\n",
    "                  w=6,\n",
    "                  wrs=[5,1],\n",
    "                  barwidth=0.8,\n",
    "                  save=True,\n",
    "                  comment='cond_by_pop_no_join',\n",
    "                  polyalpha=0.5,\n",
    "                  joinbars = False)"
   ]
  },
  {
   "cell_type": "code",
   "execution_count": 97,
   "metadata": {},
   "outputs": [
    {
     "data": {
      "image/png": "[encoded data removed]",
      "text/plain": [
       "<Figure size 354.331x295.276 with 1 Axes>"
      ]
     },
     "metadata": {
      "needs_background": "light"
     },
     "output_type": "display_data"
    }
   ],
   "source": [
    "# alternative pre-defined order\n",
    "\n",
    "custorder = ['SS','RS','MA','PA','Dead','AI','AII','HA','IR']\n",
    "cell_counts = cell_counts.loc[custorder]\n",
    "\n",
    "cell_fracs = cell_counts/cell_counts.sum()*100.\n",
    "plot_stacked_bars(cell_fracs,\n",
    "                  color_dict=cdd[col2],\n",
    "                  xlabel='condition',ylabel='% cells',\n",
    "                  w=6,\n",
    "                  wrs=[5,1],\n",
    "                  barwidth=0.8,\n",
    "                  save=True,\n",
    "                  comment='cond_by_pop_custorder',\n",
    "                  polyalpha=0.5,\n",
    "                  joinbars = True)"
   ]
  },
  {
   "cell_type": "code",
   "execution_count": 98,
   "metadata": {},
   "outputs": [],
   "source": [
    "!open postannotoutputs/"
   ]
  },
  {
   "cell_type": "markdown",
   "metadata": {},
   "source": [
    "### Fraction cycling cells"
   ]
  },
  {
   "cell_type": "code",
   "execution_count": 99,
   "metadata": {},
   "outputs": [
    {
     "name": "stdout",
     "output_type": "stream",
     "text": [
      "32415 32415\n"
     ]
    }
   ],
   "source": [
    "cmask = np.repeat(True,adata.shape[0])\n",
    "print(cmask.sum(),len(cmask))\n",
    "col1 = 'condition'\n",
    "col2 = 'phase'\n",
    "cell_counts = rz.get_cell_counts(col1,col2,adata.obs[cmask])"
   ]
  },
  {
   "cell_type": "code",
   "execution_count": 100,
   "metadata": {},
   "outputs": [],
   "source": [
    "# Order as to have the most abundant cell groups first\n",
    "\n",
    "order = cell_counts.iloc[:,0].sort_values(ascending=False).index\n",
    "cell_counts = cell_counts.loc[order]"
   ]
  },
  {
   "cell_type": "code",
   "execution_count": 101,
   "metadata": {},
   "outputs": [
    {
     "data": {
      "text/html": [
       "<div>\n",
       "<style scoped>\n",
       "    .dataframe tbody tr th:only-of-type {\n",
       "        vertical-align: middle;\n",
       "    }\n",
       "\n",
       "    .dataframe tbody tr th {\n",
       "        vertical-align: top;\n",
       "    }\n",
       "\n",
       "    .dataframe thead th {\n",
       "        text-align: right;\n",
       "    }\n",
       "</style>\n",
       "<table border=\"1\" class=\"dataframe\">\n",
       "  <thead>\n",
       "    <tr style=\"text-align: right;\">\n",
       "      <th>condition</th>\n",
       "      <th>Control</th>\n",
       "      <th>KIPyV VLPs</th>\n",
       "      <th>MCPyV VLPs</th>\n",
       "    </tr>\n",
       "    <tr>\n",
       "      <th>phase</th>\n",
       "      <th></th>\n",
       "      <th></th>\n",
       "      <th></th>\n",
       "    </tr>\n",
       "  </thead>\n",
       "  <tbody>\n",
       "    <tr>\n",
       "      <th>G0</th>\n",
       "      <td>4702</td>\n",
       "      <td>4532</td>\n",
       "      <td>6035</td>\n",
       "    </tr>\n",
       "    <tr>\n",
       "      <th>G2M</th>\n",
       "      <td>2706</td>\n",
       "      <td>2805</td>\n",
       "      <td>2564</td>\n",
       "    </tr>\n",
       "    <tr>\n",
       "      <th>G1S</th>\n",
       "      <td>2658</td>\n",
       "      <td>3524</td>\n",
       "      <td>2889</td>\n",
       "    </tr>\n",
       "  </tbody>\n",
       "</table>\n",
       "</div>"
      ],
      "text/plain": [
       "condition  Control  KIPyV VLPs  MCPyV VLPs\n",
       "phase                                     \n",
       "G0            4702        4532        6035\n",
       "G2M           2706        2805        2564\n",
       "G1S           2658        3524        2889"
      ]
     },
     "execution_count": 101,
     "metadata": {},
     "output_type": "execute_result"
    }
   ],
   "source": [
    "cell_counts"
   ]
  },
  {
   "cell_type": "code",
   "execution_count": 102,
   "metadata": {},
   "outputs": [
    {
     "data": {
      "image/png": "[encoded data removed]",
      "text/plain": [
       "<Figure size 413.386x295.276 with 1 Axes>"
      ]
     },
     "metadata": {
      "needs_background": "light"
     },
     "output_type": "display_data"
    }
   ],
   "source": [
    "cell_fracs = cell_counts/cell_counts.sum()*100.\n",
    "plot_stacked_bars(cell_fracs,\n",
    "                  color_dict=cdd[col2],\n",
    "                  xlabel='condition',ylabel='% cells in cell cycle phase',\n",
    "                  w=7,\n",
    "                  wrs=[5,1],\n",
    "                  barwidth=0.8,\n",
    "                  save=True,\n",
    "                  comment='cond_by_phase',\n",
    "                  polyalpha=0.5,\n",
    "                  joinbars = True)"
   ]
  },
  {
   "cell_type": "markdown",
   "metadata": {},
   "source": [
    "## Get fractions of cells per population"
   ]
  },
  {
   "cell_type": "markdown",
   "metadata": {},
   "source": [
    "### Fraction condition"
   ]
  },
  {
   "cell_type": "code",
   "execution_count": 103,
   "metadata": {},
   "outputs": [
    {
     "name": "stdout",
     "output_type": "stream",
     "text": [
      "32415 32415\n"
     ]
    }
   ],
   "source": [
    "cmask = np.repeat(True,adata.shape[0])\n",
    "print(cmask.sum(),len(cmask))\n",
    "col1 = 'population'\n",
    "col2 = 'condition'\n",
    "cell_counts = rz.get_cell_counts(col1,col2,adata.obs[cmask])"
   ]
  },
  {
   "cell_type": "code",
   "execution_count": 104,
   "metadata": {},
   "outputs": [],
   "source": [
    "# Order as to have the most abundant cell groups first\n",
    "order = cell_counts.iloc[:,0].sort_values(ascending=False).index\n",
    "cell_counts = cell_counts.loc[order]"
   ]
  },
  {
   "cell_type": "code",
   "execution_count": 105,
   "metadata": {},
   "outputs": [
    {
     "data": {
      "text/html": [
       "<div>\n",
       "<style scoped>\n",
       "    .dataframe tbody tr th:only-of-type {\n",
       "        vertical-align: middle;\n",
       "    }\n",
       "\n",
       "    .dataframe tbody tr th {\n",
       "        vertical-align: top;\n",
       "    }\n",
       "\n",
       "    .dataframe thead th {\n",
       "        text-align: right;\n",
       "    }\n",
       "</style>\n",
       "<table border=\"1\" class=\"dataframe\">\n",
       "  <thead>\n",
       "    <tr style=\"text-align: right;\">\n",
       "      <th>population</th>\n",
       "      <th>AI</th>\n",
       "      <th>AII</th>\n",
       "      <th>Dead</th>\n",
       "      <th>HA</th>\n",
       "      <th>IR</th>\n",
       "      <th>MA</th>\n",
       "      <th>PA</th>\n",
       "      <th>RS</th>\n",
       "      <th>SS</th>\n",
       "    </tr>\n",
       "    <tr>\n",
       "      <th>condition</th>\n",
       "      <th></th>\n",
       "      <th></th>\n",
       "      <th></th>\n",
       "      <th></th>\n",
       "      <th></th>\n",
       "      <th></th>\n",
       "      <th></th>\n",
       "      <th></th>\n",
       "      <th></th>\n",
       "    </tr>\n",
       "  </thead>\n",
       "  <tbody>\n",
       "    <tr>\n",
       "      <th>KIPyV VLPs</th>\n",
       "      <td>4343.062333</td>\n",
       "      <td>2029.279072</td>\n",
       "      <td>638.062793</td>\n",
       "      <td>349.875702</td>\n",
       "      <td>18.414511</td>\n",
       "      <td>1062.517264</td>\n",
       "      <td>339.747721</td>\n",
       "      <td>162.047694</td>\n",
       "      <td>1056.992910</td>\n",
       "    </tr>\n",
       "    <tr>\n",
       "      <th>MCPyV VLPs</th>\n",
       "      <td>2775.069638</td>\n",
       "      <td>2721.100279</td>\n",
       "      <td>473.537604</td>\n",
       "      <td>577.123955</td>\n",
       "      <td>233.286908</td>\n",
       "      <td>1455.431755</td>\n",
       "      <td>354.282730</td>\n",
       "      <td>141.887187</td>\n",
       "      <td>1268.279944</td>\n",
       "    </tr>\n",
       "    <tr>\n",
       "      <th>Control</th>\n",
       "      <td>112.259090</td>\n",
       "      <td>114.245977</td>\n",
       "      <td>162.924697</td>\n",
       "      <td>56.626267</td>\n",
       "      <td>7.947546</td>\n",
       "      <td>3637.989271</td>\n",
       "      <td>2176.634214</td>\n",
       "      <td>3043.910193</td>\n",
       "      <td>687.462746</td>\n",
       "    </tr>\n",
       "  </tbody>\n",
       "</table>\n",
       "</div>"
      ],
      "text/plain": [
       "population           AI          AII        Dead          HA          IR  \\\n",
       "condition                                                                  \n",
       "KIPyV VLPs  4343.062333  2029.279072  638.062793  349.875702   18.414511   \n",
       "MCPyV VLPs  2775.069638  2721.100279  473.537604  577.123955  233.286908   \n",
       "Control      112.259090   114.245977  162.924697   56.626267    7.947546   \n",
       "\n",
       "population           MA           PA           RS           SS  \n",
       "condition                                                       \n",
       "KIPyV VLPs  1062.517264   339.747721   162.047694  1056.992910  \n",
       "MCPyV VLPs  1455.431755   354.282730   141.887187  1268.279944  \n",
       "Control     3637.989271  2176.634214  3043.910193   687.462746  "
      ]
     },
     "execution_count": 105,
     "metadata": {},
     "output_type": "execute_result"
    }
   ],
   "source": [
    "cells_per_10k = cell_counts.T.copy()\n",
    "cells_per_10k = cells_per_10k/cells_per_10k.sum()*10000.\n",
    "cells_per_10k = cells_per_10k.T\n",
    "cells_per_10k"
   ]
  },
  {
   "cell_type": "code",
   "execution_count": 106,
   "metadata": {},
   "outputs": [
    {
     "data": {
      "image/png": "[encoded data removed]",
      "text/plain": [
       "<Figure size 472.441x295.276 with 1 Axes>"
      ]
     },
     "metadata": {
      "needs_background": "light"
     },
     "output_type": "display_data"
    }
   ],
   "source": [
    "cell_fracs = cells_per_10k/cells_per_10k.sum()*100.\n",
    "\n",
    "# order by decreasing fraction of condition 1 (reference)\n",
    "order = cell_fracs.loc[\"Control\",:].sort_values(ascending=False).index\n",
    "cell_fracs = cell_fracs[order]\n",
    "\n",
    "\n",
    "plot_stacked_bars(cell_fracs,\n",
    "                  color_dict=cdd[col2],\n",
    "                  xlabel='population',ylabel='% condition',\n",
    "                  w=8,\n",
    "                  wrs=[5,1],\n",
    "                  barwidth=0.8,\n",
    "                  save=True,\n",
    "                  comment='pop_by_cond',\n",
    "                  polyalpha=0.5,\n",
    "                  joinbars = True)"
   ]
  },
  {
   "cell_type": "code",
   "execution_count": 107,
   "metadata": {},
   "outputs": [
    {
     "data": {
      "image/png": "[encoded data removed]",
      "text/plain": [
       "<Figure size 531.496x177.165 with 1 Axes>"
      ]
     },
     "metadata": {
      "needs_background": "light"
     },
     "output_type": "display_data"
    }
   ],
   "source": [
    "# same as above but custom order to match clustering results by gene expression\n",
    "customorder = ['IR', 'AII', 'HA', 'AI', 'Dead', 'SS', 'RS', 'MA', 'PA']\n",
    "\n",
    "plot_stacked_bars(cell_fracs[customorder[::-1]],\n",
    "                  color_dict=cdd[col2],\n",
    "                  xlabel='population',ylabel='% condition',\n",
    "                  h=3,\n",
    "                  w=9,\n",
    "                  wrs=[5,1],\n",
    "                  barwidth=0.8,\n",
    "                  save=True,\n",
    "                  comment='pop_by_cond_cust_order',\n",
    "                  polyalpha=0.5,\n",
    "                  joinbars = True)"
   ]
  },
  {
   "cell_type": "code",
   "execution_count": 108,
   "metadata": {},
   "outputs": [
    {
     "data": {
      "image/png": "[encoded data removed]",
      "text/plain": [
       "<Figure size 531.496x177.165 with 1 Axes>"
      ]
     },
     "metadata": {
      "needs_background": "light"
     },
     "output_type": "display_data"
    }
   ],
   "source": [
    "# same as above but custom order to match clustering results by gene expression\n",
    "customorder = ['IR', 'AII', 'HA', 'AI', 'Dead', 'SS', 'RS', 'MA', 'PA']\n",
    "\n",
    "plot_stacked_bars(cell_fracs[customorder[::-1]],\n",
    "                  color_dict=cdd[col2],\n",
    "                  xlabel='population',ylabel='% condition',\n",
    "                  h=3,\n",
    "                  w=9,\n",
    "                  wrs=[5,1],\n",
    "                  barwidth=0.8,\n",
    "                  save=True,\n",
    "                  comment='pop_by_cond_cust_order_no_join',\n",
    "                  polyalpha=0.5,\n",
    "                  joinbars = False)"
   ]
  },
  {
   "cell_type": "markdown",
   "metadata": {},
   "source": [
    "### Fraction cycling"
   ]
  },
  {
   "cell_type": "code",
   "execution_count": 109,
   "metadata": {},
   "outputs": [
    {
     "name": "stdout",
     "output_type": "stream",
     "text": [
      "32415 32415\n"
     ]
    }
   ],
   "source": [
    "cmask = np.repeat(True,adata.shape[0])\n",
    "print(cmask.sum(),len(cmask))\n",
    "col1 = 'population'\n",
    "col2 = 'phase'\n",
    "cell_counts = rz.get_cell_counts(col1,col2,adata.obs[cmask])"
   ]
  },
  {
   "cell_type": "code",
   "execution_count": 110,
   "metadata": {},
   "outputs": [],
   "source": [
    "# Order as to have the most abundant cell groups first\n",
    "order = cell_counts.iloc[:,0].sort_values(ascending=False).index\n",
    "cell_counts = cell_counts.loc[order]"
   ]
  },
  {
   "cell_type": "code",
   "execution_count": 111,
   "metadata": {},
   "outputs": [
    {
     "data": {
      "text/html": [
       "<div>\n",
       "<style scoped>\n",
       "    .dataframe tbody tr th:only-of-type {\n",
       "        vertical-align: middle;\n",
       "    }\n",
       "\n",
       "    .dataframe tbody tr th {\n",
       "        vertical-align: top;\n",
       "    }\n",
       "\n",
       "    .dataframe thead th {\n",
       "        text-align: right;\n",
       "    }\n",
       "</style>\n",
       "<table border=\"1\" class=\"dataframe\">\n",
       "  <thead>\n",
       "    <tr style=\"text-align: right;\">\n",
       "      <th>population</th>\n",
       "      <th>AI</th>\n",
       "      <th>AII</th>\n",
       "      <th>Dead</th>\n",
       "      <th>HA</th>\n",
       "      <th>IR</th>\n",
       "      <th>MA</th>\n",
       "      <th>PA</th>\n",
       "      <th>RS</th>\n",
       "      <th>SS</th>\n",
       "    </tr>\n",
       "    <tr>\n",
       "      <th>phase</th>\n",
       "      <th></th>\n",
       "      <th></th>\n",
       "      <th></th>\n",
       "      <th></th>\n",
       "      <th></th>\n",
       "      <th></th>\n",
       "      <th></th>\n",
       "      <th></th>\n",
       "      <th></th>\n",
       "    </tr>\n",
       "  </thead>\n",
       "  <tbody>\n",
       "    <tr>\n",
       "      <th>G0</th>\n",
       "      <td>3244</td>\n",
       "      <td>3249</td>\n",
       "      <td>550</td>\n",
       "      <td>674</td>\n",
       "      <td>163</td>\n",
       "      <td>2583</td>\n",
       "      <td>1284</td>\n",
       "      <td>2046</td>\n",
       "      <td>1476</td>\n",
       "    </tr>\n",
       "    <tr>\n",
       "      <th>G1S</th>\n",
       "      <td>2619</td>\n",
       "      <td>1202</td>\n",
       "      <td>459</td>\n",
       "      <td>229</td>\n",
       "      <td>64</td>\n",
       "      <td>1934</td>\n",
       "      <td>852</td>\n",
       "      <td>699</td>\n",
       "      <td>1013</td>\n",
       "    </tr>\n",
       "    <tr>\n",
       "      <th>G2M</th>\n",
       "      <td>2155</td>\n",
       "      <td>994</td>\n",
       "      <td>392</td>\n",
       "      <td>197</td>\n",
       "      <td>69</td>\n",
       "      <td>1971</td>\n",
       "      <td>831</td>\n",
       "      <td>658</td>\n",
       "      <td>808</td>\n",
       "    </tr>\n",
       "  </tbody>\n",
       "</table>\n",
       "</div>"
      ],
      "text/plain": [
       "population    AI   AII  Dead   HA   IR    MA    PA    RS    SS\n",
       "phase                                                         \n",
       "G0          3244  3249   550  674  163  2583  1284  2046  1476\n",
       "G1S         2619  1202   459  229   64  1934   852   699  1013\n",
       "G2M         2155   994   392  197   69  1971   831   658   808"
      ]
     },
     "execution_count": 111,
     "metadata": {},
     "output_type": "execute_result"
    }
   ],
   "source": [
    "cell_counts"
   ]
  },
  {
   "cell_type": "code",
   "execution_count": 112,
   "metadata": {},
   "outputs": [
    {
     "data": {
      "text/html": [
       "<div>\n",
       "<style scoped>\n",
       "    .dataframe tbody tr th:only-of-type {\n",
       "        vertical-align: middle;\n",
       "    }\n",
       "\n",
       "    .dataframe tbody tr th {\n",
       "        vertical-align: top;\n",
       "    }\n",
       "\n",
       "    .dataframe thead th {\n",
       "        text-align: right;\n",
       "    }\n",
       "</style>\n",
       "<table border=\"1\" class=\"dataframe\">\n",
       "  <thead>\n",
       "    <tr style=\"text-align: right;\">\n",
       "      <th>population</th>\n",
       "      <th>AI</th>\n",
       "      <th>AII</th>\n",
       "      <th>Dead</th>\n",
       "      <th>HA</th>\n",
       "      <th>IR</th>\n",
       "      <th>MA</th>\n",
       "      <th>PA</th>\n",
       "      <th>RS</th>\n",
       "      <th>SS</th>\n",
       "    </tr>\n",
       "    <tr>\n",
       "      <th>phase</th>\n",
       "      <th></th>\n",
       "      <th></th>\n",
       "      <th></th>\n",
       "      <th></th>\n",
       "      <th></th>\n",
       "      <th></th>\n",
       "      <th></th>\n",
       "      <th></th>\n",
       "      <th></th>\n",
       "    </tr>\n",
       "  </thead>\n",
       "  <tbody>\n",
       "    <tr>\n",
       "      <th>G0</th>\n",
       "      <td>2124.566114</td>\n",
       "      <td>2127.840723</td>\n",
       "      <td>360.206955</td>\n",
       "      <td>441.417251</td>\n",
       "      <td>106.752243</td>\n",
       "      <td>1691.662846</td>\n",
       "      <td>840.919510</td>\n",
       "      <td>1339.969874</td>\n",
       "      <td>966.664484</td>\n",
       "    </tr>\n",
       "    <tr>\n",
       "      <th>G1S</th>\n",
       "      <td>2887.223018</td>\n",
       "      <td>1325.101973</td>\n",
       "      <td>506.008158</td>\n",
       "      <td>252.452872</td>\n",
       "      <td>70.554514</td>\n",
       "      <td>2132.069232</td>\n",
       "      <td>939.256973</td>\n",
       "      <td>770.587587</td>\n",
       "      <td>1116.745673</td>\n",
       "    </tr>\n",
       "    <tr>\n",
       "      <th>G2M</th>\n",
       "      <td>2668.730650</td>\n",
       "      <td>1230.959752</td>\n",
       "      <td>485.448916</td>\n",
       "      <td>243.962848</td>\n",
       "      <td>85.448916</td>\n",
       "      <td>2440.866873</td>\n",
       "      <td>1029.102167</td>\n",
       "      <td>814.860681</td>\n",
       "      <td>1000.619195</td>\n",
       "    </tr>\n",
       "  </tbody>\n",
       "</table>\n",
       "</div>"
      ],
      "text/plain": [
       "population           AI          AII        Dead          HA          IR  \\\n",
       "phase                                                                      \n",
       "G0          2124.566114  2127.840723  360.206955  441.417251  106.752243   \n",
       "G1S         2887.223018  1325.101973  506.008158  252.452872   70.554514   \n",
       "G2M         2668.730650  1230.959752  485.448916  243.962848   85.448916   \n",
       "\n",
       "population           MA           PA           RS           SS  \n",
       "phase                                                           \n",
       "G0          1691.662846   840.919510  1339.969874   966.664484  \n",
       "G1S         2132.069232   939.256973   770.587587  1116.745673  \n",
       "G2M         2440.866873  1029.102167   814.860681  1000.619195  "
      ]
     },
     "execution_count": 112,
     "metadata": {},
     "output_type": "execute_result"
    }
   ],
   "source": [
    "cells_per_10k = cell_counts.T.copy()\n",
    "cells_per_10k = cells_per_10k/cells_per_10k.sum()*10000.\n",
    "cells_per_10k = cells_per_10k.T\n",
    "cells_per_10k"
   ]
  },
  {
   "cell_type": "code",
   "execution_count": 113,
   "metadata": {},
   "outputs": [
    {
     "data": {
      "image/png": "[encoded data removed]",
      "text/plain": [
       "<Figure size 472.441x295.276 with 1 Axes>"
      ]
     },
     "metadata": {
      "needs_background": "light"
     },
     "output_type": "display_data"
    }
   ],
   "source": [
    "cell_fracs = cell_counts/cell_counts.sum()*100.\n",
    "\n",
    "# order by decreasing fraction of condition 1 (reference)\n",
    "order = cell_fracs.loc[\"G0\",:].sort_values(ascending=False).index\n",
    "cell_fracs = cell_fracs[order]\n",
    "\n",
    "plot_stacked_bars(cell_fracs,\n",
    "                  color_dict=cdd[col2],\n",
    "                  xlabel='population',ylabel='% phase',\n",
    "                  w=8,\n",
    "                  wrs=[5,1],\n",
    "                  barwidth=0.8,\n",
    "                  save=True,\n",
    "                  comment='pop_by_phase',\n",
    "                  polyalpha=0.5,\n",
    "                  joinbars = True)"
   ]
  },
  {
   "cell_type": "code",
   "execution_count": 114,
   "metadata": {},
   "outputs": [
    {
     "data": {
      "image/png": "[encoded data removed]",
      "text/plain": [
       "<Figure size 472.441x177.165 with 1 Axes>"
      ]
     },
     "metadata": {
      "needs_background": "light"
     },
     "output_type": "display_data"
    }
   ],
   "source": [
    "# custom order\n",
    "\n",
    "# same as above but custom order to match clustering results by gene expression\n",
    "customorder = ['IR', 'AII', 'HA', 'AI', 'Dead', 'SS', 'RS', 'MA', 'PA']\n",
    "\n",
    "plot_stacked_bars(cell_fracs[customorder[::-1]],\n",
    "                  color_dict=cdd[col2],\n",
    "                  xlabel='population',ylabel='% phase',\n",
    "                  h=3,\n",
    "                  w=8,\n",
    "                  wrs=[5,1],\n",
    "                  barwidth=0.8,\n",
    "                  save=True,\n",
    "                  comment='pop_by_phase_cust_order',\n",
    "                  polyalpha=0.5,\n",
    "                  joinbars = True)"
   ]
  },
  {
   "cell_type": "code",
   "execution_count": 115,
   "metadata": {},
   "outputs": [
    {
     "data": {
      "image/png": "[encoded data removed]",
      "text/plain": [
       "<Figure size 472.441x177.165 with 1 Axes>"
      ]
     },
     "metadata": {
      "needs_background": "light"
     },
     "output_type": "display_data"
    }
   ],
   "source": [
    "# custom order\n",
    "\n",
    "# same as above but custom order to match clustering results by gene expression\n",
    "customorder = ['IR', 'AII', 'HA', 'AI', 'Dead', 'SS', 'RS', 'MA', 'PA']\n",
    "\n",
    "plot_stacked_bars(cell_fracs[customorder[::-1]],\n",
    "                  color_dict=cdd[col2],\n",
    "                  xlabel='population',ylabel='% phase',\n",
    "                  h=3,\n",
    "                  w=8,\n",
    "                  wrs=[5,1],\n",
    "                  barwidth=0.8,\n",
    "                  save=True,\n",
    "                  comment='pop_by_phase_cust_order_no_join',\n",
    "                  polyalpha=0.5,\n",
    "                  joinbars = False)"
   ]
  },
  {
   "cell_type": "code",
   "execution_count": 117,
   "metadata": {},
   "outputs": [],
   "source": [
    "!open postannotoutputs/"
   ]
  },
  {
   "cell_type": "markdown",
   "metadata": {},
   "source": [
    "## Correlation of cells fractions"
   ]
  },
  {
   "cell_type": "code",
   "execution_count": 19,
   "metadata": {},
   "outputs": [
    {
     "data": {
      "text/html": [
       "<div>\n",
       "<style scoped>\n",
       "    .dataframe tbody tr th:only-of-type {\n",
       "        vertical-align: middle;\n",
       "    }\n",
       "\n",
       "    .dataframe tbody tr th {\n",
       "        vertical-align: top;\n",
       "    }\n",
       "\n",
       "    .dataframe thead th {\n",
       "        text-align: right;\n",
       "    }\n",
       "</style>\n",
       "<table border=\"1\" class=\"dataframe\">\n",
       "  <thead>\n",
       "    <tr style=\"text-align: right;\">\n",
       "      <th>condition</th>\n",
       "      <th>Control</th>\n",
       "      <th>KIPyV VLPs</th>\n",
       "      <th>MCPyV VLPs</th>\n",
       "    </tr>\n",
       "    <tr>\n",
       "      <th>population</th>\n",
       "      <th></th>\n",
       "      <th></th>\n",
       "      <th></th>\n",
       "    </tr>\n",
       "  </thead>\n",
       "  <tbody>\n",
       "    <tr>\n",
       "      <th>MA</th>\n",
       "      <td>36.379893</td>\n",
       "      <td>10.625173</td>\n",
       "      <td>14.554318</td>\n",
       "    </tr>\n",
       "    <tr>\n",
       "      <th>RS</th>\n",
       "      <td>30.439102</td>\n",
       "      <td>1.620477</td>\n",
       "      <td>1.418872</td>\n",
       "    </tr>\n",
       "    <tr>\n",
       "      <th>PA</th>\n",
       "      <td>21.766342</td>\n",
       "      <td>3.397477</td>\n",
       "      <td>3.542827</td>\n",
       "    </tr>\n",
       "    <tr>\n",
       "      <th>SS</th>\n",
       "      <td>6.874627</td>\n",
       "      <td>10.569929</td>\n",
       "      <td>12.682799</td>\n",
       "    </tr>\n",
       "    <tr>\n",
       "      <th>Dead</th>\n",
       "      <td>1.629247</td>\n",
       "      <td>6.380628</td>\n",
       "      <td>4.735376</td>\n",
       "    </tr>\n",
       "    <tr>\n",
       "      <th>AII</th>\n",
       "      <td>1.142460</td>\n",
       "      <td>20.292791</td>\n",
       "      <td>27.211003</td>\n",
       "    </tr>\n",
       "    <tr>\n",
       "      <th>AI</th>\n",
       "      <td>1.122591</td>\n",
       "      <td>43.430623</td>\n",
       "      <td>27.750696</td>\n",
       "    </tr>\n",
       "    <tr>\n",
       "      <th>HA</th>\n",
       "      <td>0.566263</td>\n",
       "      <td>3.498757</td>\n",
       "      <td>5.771240</td>\n",
       "    </tr>\n",
       "    <tr>\n",
       "      <th>IR</th>\n",
       "      <td>0.079475</td>\n",
       "      <td>0.184145</td>\n",
       "      <td>2.332869</td>\n",
       "    </tr>\n",
       "  </tbody>\n",
       "</table>\n",
       "</div>"
      ],
      "text/plain": [
       "condition     Control  KIPyV VLPs  MCPyV VLPs\n",
       "population                                   \n",
       "MA          36.379893   10.625173   14.554318\n",
       "RS          30.439102    1.620477    1.418872\n",
       "PA          21.766342    3.397477    3.542827\n",
       "SS           6.874627   10.569929   12.682799\n",
       "Dead         1.629247    6.380628    4.735376\n",
       "AII          1.142460   20.292791   27.211003\n",
       "AI           1.122591   43.430623   27.750696\n",
       "HA           0.566263    3.498757    5.771240\n",
       "IR           0.079475    0.184145    2.332869"
      ]
     },
     "execution_count": 19,
     "metadata": {},
     "output_type": "execute_result"
    }
   ],
   "source": [
    "cell_fracs"
   ]
  },
  {
   "cell_type": "code",
   "execution_count": 22,
   "metadata": {},
   "outputs": [
    {
     "data": {
      "text/plain": [
       "[('Control', 'KIPyV VLPs'),\n",
       " ('Control', 'MCPyV VLPs'),\n",
       " ('KIPyV VLPs', 'MCPyV VLPs')]"
      ]
     },
     "execution_count": 22,
     "metadata": {},
     "output_type": "execute_result"
    }
   ],
   "source": [
    "combs = [i for i in itertools.combinations(cell_fracs.columns,2)]\n",
    "combs"
   ]
  },
  {
   "cell_type": "markdown",
   "metadata": {},
   "source": [
    "### Linear percentages"
   ]
  },
  {
   "cell_type": "code",
   "execution_count": 48,
   "metadata": {},
   "outputs": [
    {
     "data": {
      "image/png": "[encoded data removed]",
      "text/plain": [
       "<Figure size 295.276x295.276 with 1 Axes>"
      ]
     },
     "metadata": {
      "needs_background": "light"
     },
     "output_type": "display_data"
    },
    {
     "data": {
      "image/png": "[encoded data removed]",
      "text/plain": [
       "<Figure size 295.276x295.276 with 1 Axes>"
      ]
     },
     "metadata": {
      "needs_background": "light"
     },
     "output_type": "display_data"
    },
    {
     "data": {
      "image/png": "[encoded data removed]",
      "text/plain": [
       "<Figure size 295.276x295.276 with 1 Axes>"
      ]
     },
     "metadata": {
      "needs_background": "light"
     },
     "output_type": "display_data"
    }
   ],
   "source": [
    "color = [cdd['population'][i] for i in cell_fracs.index]\n",
    "for comb in combs:\n",
    "    xlab = comb[0]\n",
    "    ylab = comb[1]\n",
    "    \n",
    "    x = cell_fracs[xlab]\n",
    "    y = cell_fracs[ylab]\n",
    "    \n",
    "    a,fig,gs = rz.startfig(5,5)\n",
    "    a.plot((0,55),(0,55),'--',color='0.5')\n",
    "    a.scatter(x,y,color=color)\n",
    "    a.set_xlabel(xlab)\n",
    "    a.set_ylabel(ylab)\n",
    "    \n",
    "    title = \"%s vs %s\"%(ylab,xlab)\n",
    "    a.set_title(title)\n",
    "    \n",
    "    (r,p) = scipy.stats.pearsonr(x,y)\n",
    "    \n",
    "    a.text(10,45,\"r=%.2f\\np=%.4f\"%(r,p))\n",
    "\n",
    "    gs.tight_layout(fig)\n",
    "    plt.savefig(\"%s_linear.pdf\"%title)\n",
    "    plt.show()"
   ]
  },
  {
   "cell_type": "markdown",
   "metadata": {},
   "source": [
    "### Log percentage"
   ]
  },
  {
   "cell_type": "code",
   "execution_count": 78,
   "metadata": {},
   "outputs": [
    {
     "data": {
      "image/png": "[encoded data removed]",
      "text/plain": [
       "<Figure size 383.858x295.276 with 1 Axes>"
      ]
     },
     "metadata": {
      "needs_background": "light"
     },
     "output_type": "display_data"
    },
    {
     "data": {
      "image/png": "[encoded data removed]",
      "text/plain": [
       "<Figure size 383.858x295.276 with 1 Axes>"
      ]
     },
     "metadata": {
      "needs_background": "light"
     },
     "output_type": "display_data"
    },
    {
     "data": {
      "image/png": "[encoded data removed]",
      "text/plain": [
       "<Figure size 383.858x295.276 with 1 Axes>"
      ]
     },
     "metadata": {
      "needs_background": "light"
     },
     "output_type": "display_data"
    }
   ],
   "source": [
    "pseudopct = 0.0\n",
    "logcell_fracs = np.log10(cell_fracs+pseudopct)\n",
    "\n",
    "color = [cdd['population'][i] for i in cell_fracs.index]\n",
    "for comb in combs:\n",
    "    xlab = comb[0]\n",
    "    ylab = comb[1]\n",
    "    \n",
    "    x = logcell_fracs[xlab]\n",
    "    y = logcell_fracs[ylab]\n",
    "    \n",
    "    #botlim = min(min(x),min(y))\n",
    "    botlim = -1\n",
    "    \n",
    "    a,fig,gs = rz.startfig(6.5,5)\n",
    "    a.plot((botlim,2),(botlim,2),\n",
    "           '--',color='0.5',zorder=-1)\n",
    "    \n",
    "    for i,j,pop,c in zip(x,y,cell_fracs.index,color):\n",
    "        a.scatter(i,j,color=c,label=pop)\n",
    "        \n",
    "    a.set_xlabel(xlab+\", log10(% all cells)\")\n",
    "    a.set_ylabel(ylab+\", log10(% all cells)\")\n",
    "    a.legend(bbox_to_anchor=(1,1))\n",
    "    \n",
    "    title = \"%s vs %s\"%(ylab,xlab)\n",
    "    a.set_title(title)\n",
    "    \n",
    "    (r,p) = scipy.stats.pearsonr(x,y)\n",
    "    \n",
    "    a.text(np.log10(1),-0.9,\"Pearson r=%.2f\\np=%.4f\"%(r,p))\n",
    "\n",
    "    gs.tight_layout(fig)\n",
    "    plt.savefig(\"postannotoutputs/%s_log.pdf\"%title)\n",
    "    plt.show()"
   ]
  },
  {
   "cell_type": "code",
   "execution_count": null,
   "metadata": {},
   "outputs": [],
   "source": []
  }
 ],
 "metadata": {
  "kernelspec": {
   "display_name": "Python 3",
   "language": "python",
   "name": "python3"
  },
  "language_info": {
   "codemirror_mode": {
    "name": "ipython",
    "version": 3
   },
   "file_extension": ".py",
   "mimetype": "text/x-python",
   "name": "python",
   "nbconvert_exporter": "python",
   "pygments_lexer": "ipython3",
   "version": "3.6.7"
  },
  "toc": {
   "base_numbering": 1,
   "nav_menu": {},
   "number_sections": true,
   "sideBar": true,
   "skip_h1_title": true,
   "title_cell": "Table of Contents",
   "title_sidebar": "Contents",
   "toc_cell": false,
   "toc_position": {
    "height": "calc(100% - 180px)",
    "left": "10px",
    "top": "150px",
    "width": "165px"
   },
   "toc_section_display": true,
   "toc_window_display": true
  }
 },
 "nbformat": 4,
 "nbformat_minor": 2
}
