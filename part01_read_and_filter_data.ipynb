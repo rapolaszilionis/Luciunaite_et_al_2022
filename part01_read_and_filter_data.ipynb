{
 "cells": [
  {
   "cell_type": "markdown",
   "metadata": {},
   "source": [
    "# Read and filter data"
   ]
  },
  {
   "cell_type": "markdown",
   "metadata": {
    "toc": true
   },
   "source": [
    "<h1>Table of Contents<span class=\"tocSkip\"></span></h1>\n",
    "<div class=\"toc\"><ul class=\"toc-item\"><li><span><a href=\"#Import-statements\" data-toc-modified-id=\"Import-statements-1\"><span class=\"toc-item-num\">1&nbsp;&nbsp;</span>Import statements</a></span><ul class=\"toc-item\"><li><span><a href=\"#Import-scanpy\" data-toc-modified-id=\"Import-scanpy-1.1\"><span class=\"toc-item-num\">1.1&nbsp;&nbsp;</span>Import scanpy</a></span></li><li><span><a href=\"#Import-my-utility-functions-and-import-statements-from-github\" data-toc-modified-id=\"Import-my-utility-functions-and-import-statements-from-github-1.2\"><span class=\"toc-item-num\">1.2&nbsp;&nbsp;</span>Import my utility functions and import statements from github</a></span></li></ul></li><li><span><a href=\"#Load-inDrops-data,-post-star-solo-indrops\" data-toc-modified-id=\"Load-inDrops-data,-post-star-solo-indrops-2\"><span class=\"toc-item-num\">2&nbsp;&nbsp;</span>Load inDrops data, post star-solo-indrops</a></span></li><li><span><a href=\"#Filter-on-total-counts-and-fraction-mito\" data-toc-modified-id=\"Filter-on-total-counts-and-fraction-mito-3\"><span class=\"toc-item-num\">3&nbsp;&nbsp;</span>Filter on total counts and fraction mito</a></span><ul class=\"toc-item\"><li><span><a href=\"#Select-thresholds\" data-toc-modified-id=\"Select-thresholds-3.1\"><span class=\"toc-item-num\">3.1&nbsp;&nbsp;</span>Select thresholds</a></span></li><li><span><a href=\"#Apply-the-thesholds-(filter-data)\" data-toc-modified-id=\"Apply-the-thesholds-(filter-data)-3.2\"><span class=\"toc-item-num\">3.2&nbsp;&nbsp;</span>Apply the thesholds (filter data)</a></span></li></ul></li><li><span><a href=\"#Record-in-adata.obs-any-extra-per-cell-information-if-available\" data-toc-modified-id=\"Record-in-adata.obs-any-extra-per-cell-information-if-available-4\"><span class=\"toc-item-num\">4&nbsp;&nbsp;</span>Record in adata.obs any extra per-cell information if available</a></span><ul class=\"toc-item\"><li><span><a href=\"#Categorical\" data-toc-modified-id=\"Categorical-4.1\"><span class=\"toc-item-num\">4.1&nbsp;&nbsp;</span>Categorical</a></span></li><li><span><a href=\"#Numerical\" data-toc-modified-id=\"Numerical-4.2\"><span class=\"toc-item-num\">4.2&nbsp;&nbsp;</span>Numerical</a></span></li></ul></li></ul></div>"
   ]
  },
  {
   "cell_type": "markdown",
   "metadata": {},
   "source": [
    "## Import statements"
   ]
  },
  {
   "cell_type": "code",
   "execution_count": 1,
   "metadata": {},
   "outputs": [],
   "source": [
    "import os,sys\n",
    "import datetime"
   ]
  },
  {
   "cell_type": "markdown",
   "metadata": {},
   "source": [
    "### Import scanpy"
   ]
  },
  {
   "cell_type": "code",
   "execution_count": 2,
   "metadata": {},
   "outputs": [
    {
     "name": "stdout",
     "output_type": "stream",
     "text": [
      "scanpy==1.4.4.post1 anndata==0.6.22.post1 umap==0.3.7 numpy==1.15.4 scipy==1.3.1 pandas==0.23.4 scikit-learn==0.20.1 statsmodels==0.10.1 python-igraph==0.7.1 louvain==0.6.1\n",
      "Memory usage: current 0.20 GB, difference +0.20 GB\n"
     ]
    }
   ],
   "source": [
    "import scanpy as sc\n",
    "sc.logging.print_versions()\n",
    "sc.logging.print_memory_usage()\n",
    "sc.settings.verbosity = 2"
   ]
  },
  {
   "cell_type": "markdown",
   "metadata": {},
   "source": [
    "### Import my utility functions and import statements from github"
   ]
  },
  {
   "cell_type": "code",
   "execution_count": 3,
   "metadata": {},
   "outputs": [],
   "source": [
    "## This cell is run once to download my custom functions and import statements from github\n",
    "#\n",
    "#!git clone --depth=1 https://github.com/rapolaszilionis/utility_functions\n",
    "#    \n",
    "## github doesn't seem to have an option to download a specific version of the repo from the history.\n",
    "## So I download my utility functions and save the download time by appending it to the directory name.\n",
    "## These utility functions to be shared together with the notebook.\n",
    "#\n",
    "#toappend = datetime.datetime.now().strftime('%y%m%d_%Hh%M')\n",
    "#newname = \"utility_functions_%s\"%toappend\n",
    "#print(newname)\n",
    "#\n",
    "#\n",
    "## rename the py file with utility functions\n",
    "#os.rename(\"utility_functions\",newname)"
   ]
  },
  {
   "cell_type": "code",
   "execution_count": 4,
   "metadata": {},
   "outputs": [
    {
     "name": "stdout",
     "output_type": "stream",
     "text": [
      "python version: 3.6.7\n"
     ]
    }
   ],
   "source": [
    "# add the utility function folder to PATH\n",
    "sys.path.append(os.path.abspath(\"utility_functions_210525_14h42/\"))\n",
    "\n",
    "from rz_import_statements import *\n",
    "import rz_functions as rz\n",
    "import rz_fig_params \n",
    "import rz_utility_spring as srz"
   ]
  },
  {
   "cell_type": "markdown",
   "metadata": {},
   "source": [
    "## Load inDrops data, post star-solo-indrops"
   ]
  },
  {
   "cell_type": "code",
   "execution_count": 5,
   "metadata": {},
   "outputs": [
    {
     "name": "stdout",
     "output_type": "stream",
     "text": [
      "\u001b[34mMonocyte_1_ix2_S1\u001b[m\u001b[m \u001b[34mMonocyte_2_ix5_S3\u001b[m\u001b[m \u001b[34mMonocyte_3_ix7_S5\u001b[m\u001b[m \u001b[34mMonocyte_3_ix9_S7\u001b[m\u001b[m\r\n",
      "\u001b[34mMonocyte_1_ix3_S2\u001b[m\u001b[m \u001b[34mMonocyte_2_ix6_S4\u001b[m\u001b[m \u001b[34mMonocyte_3_ix8_S6\u001b[m\u001b[m\r\n"
     ]
    }
   ],
   "source": [
    "!ls ../counts/"
   ]
  },
  {
   "cell_type": "code",
   "execution_count": 6,
   "metadata": {},
   "outputs": [
    {
     "data": {
      "text/plain": [
       "['Monocyte_1_ix2_S1',\n",
       " 'Monocyte_1_ix3_S2',\n",
       " 'Monocyte_2_ix5_S3',\n",
       " 'Monocyte_2_ix6_S4',\n",
       " 'Monocyte_3_ix7_S5',\n",
       " 'Monocyte_3_ix8_S6',\n",
       " 'Monocyte_3_ix9_S7']"
      ]
     },
     "execution_count": 6,
     "metadata": {},
     "output_type": "execute_result"
    }
   ],
   "source": [
    "# list of library names\n",
    "libs = sorted(set([i.split('/')[-1] for i in glob.glob('../counts/*')]))\n",
    "libs"
   ]
  },
  {
   "cell_type": "code",
   "execution_count": 7,
   "metadata": {},
   "outputs": [
    {
     "name": "stdout",
     "output_type": "stream",
     "text": [
      "7\n",
      "7\n"
     ]
    }
   ],
   "source": [
    "# libraries to skip:\n",
    "toskip = []\n",
    "\n",
    "print(len(libs))\n",
    "libs = [i for i in libs if i not in toskip]\n",
    "print(len(libs))"
   ]
  },
  {
   "cell_type": "code",
   "execution_count": 8,
   "metadata": {
    "scrolled": false
   },
   "outputs": [
    {
     "name": "stdout",
     "output_type": "stream",
     "text": [
      "Monocyte_1_ix2_S1 shape: (147456, 36601)\n"
     ]
    },
    {
     "name": "stderr",
     "output_type": "stream",
     "text": [
      "AnnData expects string indices for some functionality, but your first two indices are: RangeIndex(start=0, stop=2, step=1). \n",
      "Variable names are not unique. To make them unique, call `.var_names_make_unique`.\n"
     ]
    },
    {
     "name": "stdout",
     "output_type": "stream",
     "text": [
      "36601 36591\n",
      "\n",
      "List of genes that are repeated, and the number of duplications\n",
      "TBCE              1\n",
      "LINC01238         1\n",
      "CYB561D2          1\n",
      "MATR3             1\n",
      "LINC01505         1\n",
      "HSPA14            1\n",
      "GOLGA8M           1\n",
      "GGT1              1\n",
      "ARMCX5-GPRASP2    1\n",
      "TMSB15B           1\n",
      "dtype: int64\n",
      "\n",
      "\n",
      "36601 36601\n",
      "Monocyte_1_ix2_S1 done\n",
      "==============================\n",
      "\n",
      "Monocyte_1_ix3_S2 shape: (147456, 36601)\n"
     ]
    },
    {
     "name": "stderr",
     "output_type": "stream",
     "text": [
      "AnnData expects string indices for some functionality, but your first two indices are: RangeIndex(start=0, stop=2, step=1). \n",
      "Variable names are not unique. To make them unique, call `.var_names_make_unique`.\n"
     ]
    },
    {
     "name": "stdout",
     "output_type": "stream",
     "text": [
      "36601 36591\n",
      "\n",
      "List of genes that are repeated, and the number of duplications\n",
      "TBCE              1\n",
      "LINC01238         1\n",
      "CYB561D2          1\n",
      "MATR3             1\n",
      "LINC01505         1\n",
      "HSPA14            1\n",
      "GOLGA8M           1\n",
      "GGT1              1\n",
      "ARMCX5-GPRASP2    1\n",
      "TMSB15B           1\n",
      "dtype: int64\n",
      "\n",
      "\n",
      "36601 36601\n",
      "Monocyte_1_ix3_S2 done\n",
      "==============================\n",
      "\n",
      "Monocyte_2_ix5_S3 shape: (147456, 36601)\n"
     ]
    },
    {
     "name": "stderr",
     "output_type": "stream",
     "text": [
      "AnnData expects string indices for some functionality, but your first two indices are: RangeIndex(start=0, stop=2, step=1). \n",
      "Variable names are not unique. To make them unique, call `.var_names_make_unique`.\n"
     ]
    },
    {
     "name": "stdout",
     "output_type": "stream",
     "text": [
      "36601 36591\n",
      "\n",
      "List of genes that are repeated, and the number of duplications\n",
      "TBCE              1\n",
      "LINC01238         1\n",
      "CYB561D2          1\n",
      "MATR3             1\n",
      "LINC01505         1\n",
      "HSPA14            1\n",
      "GOLGA8M           1\n",
      "GGT1              1\n",
      "ARMCX5-GPRASP2    1\n",
      "TMSB15B           1\n",
      "dtype: int64\n",
      "\n",
      "\n",
      "36601 36601\n",
      "Monocyte_2_ix5_S3 done\n",
      "==============================\n",
      "\n",
      "Monocyte_2_ix6_S4 shape: (147456, 36601)\n"
     ]
    },
    {
     "name": "stderr",
     "output_type": "stream",
     "text": [
      "AnnData expects string indices for some functionality, but your first two indices are: RangeIndex(start=0, stop=2, step=1). \n",
      "Variable names are not unique. To make them unique, call `.var_names_make_unique`.\n"
     ]
    },
    {
     "name": "stdout",
     "output_type": "stream",
     "text": [
      "36601 36591\n",
      "\n",
      "List of genes that are repeated, and the number of duplications\n",
      "TBCE              1\n",
      "LINC01238         1\n",
      "CYB561D2          1\n",
      "MATR3             1\n",
      "LINC01505         1\n",
      "HSPA14            1\n",
      "GOLGA8M           1\n",
      "GGT1              1\n",
      "ARMCX5-GPRASP2    1\n",
      "TMSB15B           1\n",
      "dtype: int64\n",
      "\n",
      "\n",
      "36601 36601\n",
      "Monocyte_2_ix6_S4 done\n",
      "==============================\n",
      "\n",
      "Monocyte_3_ix7_S5 shape: (147456, 36601)\n"
     ]
    },
    {
     "name": "stderr",
     "output_type": "stream",
     "text": [
      "AnnData expects string indices for some functionality, but your first two indices are: RangeIndex(start=0, stop=2, step=1). \n",
      "Variable names are not unique. To make them unique, call `.var_names_make_unique`.\n"
     ]
    },
    {
     "name": "stdout",
     "output_type": "stream",
     "text": [
      "36601 36591\n",
      "\n",
      "List of genes that are repeated, and the number of duplications\n",
      "TBCE              1\n",
      "LINC01238         1\n",
      "CYB561D2          1\n",
      "MATR3             1\n",
      "LINC01505         1\n",
      "HSPA14            1\n",
      "GOLGA8M           1\n",
      "GGT1              1\n",
      "ARMCX5-GPRASP2    1\n",
      "TMSB15B           1\n",
      "dtype: int64\n",
      "\n",
      "\n",
      "36601 36601\n",
      "Monocyte_3_ix7_S5 done\n",
      "==============================\n",
      "\n",
      "Monocyte_3_ix8_S6 shape: (147456, 36601)\n"
     ]
    },
    {
     "name": "stderr",
     "output_type": "stream",
     "text": [
      "AnnData expects string indices for some functionality, but your first two indices are: RangeIndex(start=0, stop=2, step=1). \n",
      "Variable names are not unique. To make them unique, call `.var_names_make_unique`.\n"
     ]
    },
    {
     "name": "stdout",
     "output_type": "stream",
     "text": [
      "36601 36591\n",
      "\n",
      "List of genes that are repeated, and the number of duplications\n",
      "TBCE              1\n",
      "LINC01238         1\n",
      "CYB561D2          1\n",
      "MATR3             1\n",
      "LINC01505         1\n",
      "HSPA14            1\n",
      "GOLGA8M           1\n",
      "GGT1              1\n",
      "ARMCX5-GPRASP2    1\n",
      "TMSB15B           1\n",
      "dtype: int64\n",
      "\n",
      "\n",
      "36601 36601\n",
      "Monocyte_3_ix8_S6 done\n",
      "==============================\n",
      "\n",
      "Monocyte_3_ix9_S7 shape: (147456, 36601)\n"
     ]
    },
    {
     "name": "stderr",
     "output_type": "stream",
     "text": [
      "AnnData expects string indices for some functionality, but your first two indices are: RangeIndex(start=0, stop=2, step=1). \n",
      "Variable names are not unique. To make them unique, call `.var_names_make_unique`.\n"
     ]
    },
    {
     "name": "stdout",
     "output_type": "stream",
     "text": [
      "36601 36591\n",
      "\n",
      "List of genes that are repeated, and the number of duplications\n",
      "TBCE              1\n",
      "LINC01238         1\n",
      "CYB561D2          1\n",
      "MATR3             1\n",
      "LINC01505         1\n",
      "HSPA14            1\n",
      "GOLGA8M           1\n",
      "GGT1              1\n",
      "ARMCX5-GPRASP2    1\n",
      "TMSB15B           1\n",
      "dtype: int64\n",
      "\n",
      "\n",
      "36601 36601\n",
      "Monocyte_3_ix9_S7 done\n",
      "==============================\n",
      "\n",
      "4.1 min.\n"
     ]
    }
   ],
   "source": [
    "# empty list for storing AnnData files\n",
    "lad = []\n",
    "\n",
    "# path to counts, genes, barcodes\n",
    "p = \"../counts\"\n",
    "\n",
    "start = time.time()\n",
    "for lib in libs:\n",
    "    \n",
    "    adata = sc.read_mtx(p+'/'+lib+'/matrix.mtx')\n",
    "    adata = adata.T\n",
    "    print(lib+' shape:',adata.shape)\n",
    "    \n",
    "    # barcodes\n",
    "    adata.obs['barcode'] = np.loadtxt(p+'/'+lib+'/barcodes.tsv',dtype=str)\n",
    "    \n",
    "    # features (essentially gene names)\n",
    "    feat = pd.read_csv(p+'/'+lib+'/features.tsv',sep='\\t',header=None)\n",
    "    feat.columns = ['ensembl','gene','type']\n",
    "    adata.var = feat\n",
    "    \n",
    "    # add gene names to adata.var_names\n",
    "    adata.var_names = adata.var['gene']\n",
    "    print(len(adata.var_names),len(set(adata.var_names)))\n",
    "    \n",
    "    \n",
    "    # what are the non-unique genes? Slow-ish\n",
    "    seen = []\n",
    "    duplicated = []\n",
    "    for i in adata.var_names:\n",
    "        if i in seen:\n",
    "            duplicated.append(i)\n",
    "        seen.append(i)\n",
    "        \n",
    "    print(\"\\nList of genes that are repeated, and the number of duplications\")\n",
    "    print(pd.Series(Counter(duplicated)))\n",
    "    print('\\n')\n",
    "    \n",
    "    # make unique\n",
    "    adata.var_names_make_unique()\n",
    "    print(len(adata.var_names),len(set(adata.var_names)))\n",
    "\n",
    "    adata.obs['library'] = lib\n",
    "    lad.append(adata)\n",
    "    print(lib,'done')\n",
    "    print('='*30)\n",
    "    print()\n",
    "    \n",
    "print(\"%.1f min.\"%((time.time()-start)/60.))"
   ]
  },
  {
   "cell_type": "code",
   "execution_count": 9,
   "metadata": {},
   "outputs": [
    {
     "name": "stdout",
     "output_type": "stream",
     "text": [
      "True\n",
      "True\n"
     ]
    }
   ],
   "source": [
    "# gene names must be the same but double-check\n",
    "v0 = lad[0].var_names\n",
    "print(np.prod([np.prod(v0==i.var_names) for i in lad]).astype(bool))\n",
    "\n",
    "# also check that gene names are unique:\n",
    "print(len(v0)==len(set(v0)))"
   ]
  },
  {
   "cell_type": "code",
   "execution_count": 10,
   "metadata": {},
   "outputs": [
    {
     "name": "stdout",
     "output_type": "stream",
     "text": [
      "(1032192, 36601)\n"
     ]
    }
   ],
   "source": [
    "# let's concatenate \"manually\", for a large number of AnnData objects\n",
    "# AnnData.concatenate did not work well for me\n",
    "\n",
    "Xcat = scipy.sparse.vstack([i.X for i in lad])\n",
    "obscat = pd.concat([i.obs for i in lad])\n",
    "varnames = lad[0].var_names\n",
    "\n",
    "\n",
    "adata = sc.AnnData(Xcat)\n",
    "adata.obs = obscat\n",
    "adata.var_names = varnames\n",
    "\n",
    "# index\n",
    "adata.obs_names = np.arange(adata.shape[0]).astype(str)\n",
    "\n",
    "\n",
    "print(adata.shape)"
   ]
  },
  {
   "cell_type": "markdown",
   "metadata": {},
   "source": [
    "## Filter on total counts and fraction mito"
   ]
  },
  {
   "cell_type": "code",
   "execution_count": 11,
   "metadata": {},
   "outputs": [
    {
     "name": "stdout",
     "output_type": "stream",
     "text": [
      "13\n"
     ]
    },
    {
     "data": {
      "text/plain": [
       "['MT-ND1',\n",
       " 'MT-ND2',\n",
       " 'MT-CO1',\n",
       " 'MT-CO2',\n",
       " 'MT-ATP8',\n",
       " 'MT-ATP6',\n",
       " 'MT-CO3',\n",
       " 'MT-ND3',\n",
       " 'MT-ND4L',\n",
       " 'MT-ND4',\n",
       " 'MT-ND5',\n",
       " 'MT-ND6',\n",
       " 'MT-CYB']"
      ]
     },
     "execution_count": 11,
     "metadata": {},
     "output_type": "execute_result"
    }
   ],
   "source": [
    "mitogenes = [i for i in adata.var_names if i.startswith('MT-')]\n",
    "print(len(mitogenes))\n",
    "mitogenes"
   ]
  },
  {
   "cell_type": "code",
   "execution_count": 12,
   "metadata": {},
   "outputs": [
    {
     "name": "stdout",
     "output_type": "stream",
     "text": [
      "(1032192, 36601)\n",
      "(1013570, 36601)\n"
     ]
    }
   ],
   "source": [
    "# get total counts and mito fraction\n",
    "# in principle, one could also use pp.calculate_qc_metrics, maybe to study at some point\n",
    "# I am sticking to \n",
    "\n",
    "# total counts\n",
    "adata.obs['total_counts'] = adata.X.sum(axis=1)\n",
    "\n",
    "# remove barcodes with veeery few counts, e.g. 10\n",
    "cmask = adata.obs['total_counts'].values>10\n",
    "print(adata.shape)\n",
    "adata = adata[cmask]\n",
    "print(adata.shape)"
   ]
  },
  {
   "cell_type": "code",
   "execution_count": 13,
   "metadata": {},
   "outputs": [
    {
     "name": "stderr",
     "output_type": "stream",
     "text": [
      "Trying to set attribute `.obs` of view, making a copy.\n"
     ]
    }
   ],
   "source": [
    "# mito percentage\n",
    "mitomask = np.in1d(adata.var_names,mitogenes)\n",
    "adata.obs['pct_counts_mito'] = np.array(adata.X[:,mitomask].sum(axis=1)).T[0]/adata.obs['total_counts'].values*100."
   ]
  },
  {
   "cell_type": "markdown",
   "metadata": {},
   "source": [
    "### Select thresholds"
   ]
  },
  {
   "cell_type": "code",
   "execution_count": 14,
   "metadata": {},
   "outputs": [
    {
     "name": "stdout",
     "output_type": "stream",
     "text": [
      "ts_dict = {\n",
      "\"Monocyte_1_ix2_S1\":(900,101), #(min_nr_genes,max_pct_mito)\n",
      "\"Monocyte_1_ix3_S2\":(900,101), #(min_nr_genes,max_pct_mito)\n",
      "\"Monocyte_2_ix5_S3\":(900,101), #(min_nr_genes,max_pct_mito)\n",
      "\"Monocyte_2_ix6_S4\":(900,101), #(min_nr_genes,max_pct_mito)\n",
      "\"Monocyte_3_ix7_S5\":(900,101), #(min_nr_genes,max_pct_mito)\n",
      "\"Monocyte_3_ix8_S6\":(900,101), #(min_nr_genes,max_pct_mito)\n",
      "\"Monocyte_3_ix9_S7\":(900,101), #(min_nr_genes,max_pct_mito)\n",
      "}\n"
     ]
    }
   ],
   "source": [
    "libcol = 'library' # column of obs to use\n",
    "\n",
    "# just a hack to faster fill-in thresholds used, they are set by eye\n",
    "libs = adata.obs[libcol].unique()\n",
    "\n",
    "#for entering threshold, copy/paste the output of this cell below\n",
    "print(\"ts_dict = {\") #for \"threshold dictionary\"\n",
    "for lib in libs:\n",
    "    print('\"%s\":(900,101), #(min_nr_genes,max_pct_mito)'%lib)\n",
    "print('}')"
   ]
  },
  {
   "cell_type": "code",
   "execution_count": 15,
   "metadata": {},
   "outputs": [],
   "source": [
    "# copy and edit output of previous cell\n",
    "# first run with any thresholds, then adjust based on the distribution of barcodes\n",
    "\n",
    "ts_dict = {\n",
    "\"Monocyte_1_ix2_S1\":(900,101), #(min_nr_genes,max_pct_mito)\n",
    "\"Monocyte_1_ix3_S2\":(900,101), #(min_nr_genes,max_pct_mito)\n",
    "\"Monocyte_2_ix5_S3\":(900,101), #(min_nr_genes,max_pct_mito)\n",
    "\"Monocyte_2_ix6_S4\":(900,101), #(min_nr_genes,max_pct_mito)\n",
    "\"Monocyte_3_ix7_S5\":(900,101), #(min_nr_genes,max_pct_mito)\n",
    "\"Monocyte_3_ix8_S6\":(900,101), #(min_nr_genes,max_pct_mito)\n",
    "\"Monocyte_3_ix9_S7\":(900,101), #(min_nr_genes,max_pct_mito)\n",
    "}"
   ]
  },
  {
   "cell_type": "code",
   "execution_count": 16,
   "metadata": {},
   "outputs": [
    {
     "name": "stdout",
     "output_type": "stream",
     "text": [
      "32415\n"
     ]
    },
    {
     "name": "stderr",
     "output_type": "stream",
     "text": [
      "/Users/rapolaszilionis/anaconda3/lib/python3.6/site-packages/matplotlib/font_manager.py:1241: UserWarning: findfont: Font family ['Myriad Pro'] not found. Falling back to DejaVu Sans.\n",
      "  (prop.get_family(), self.defaultFamily[fontext]))\n"
     ]
    },
    {
     "data": {
      "image/png": "[encoded data removed]",
      "text/plain": [
       "<Figure size 885.827x1771.65 with 14 Axes>"
      ]
     },
     "metadata": {
      "needs_background": "light"
     },
     "output_type": "display_data"
    }
   ],
   "source": [
    "import math\n",
    "pass_filters = []\n",
    "\n",
    "#plot mito histograms\n",
    "nr_rows = math.ceil(len(libs)/3.)\n",
    "\n",
    "fig,gs = rz.startfig(w=15,h=nr_rows*10,rows=nr_rows*2,columns=3,return_first_ax=False)\n",
    "#startfig - a custom function by Rapo\n",
    "\n",
    "#best way I could think of to get all the coordinates of the my subplots\n",
    "coords = np.argwhere(np.zeros([nr_rows,3]) == 0)\n",
    "\n",
    "# control total count range to expect\n",
    "xmin = 10\n",
    "xmax = 20000\n",
    "\n",
    "!mkdir -p outputs\n",
    "\n",
    "for c,lib in zip(coords,libs):\n",
    "    \n",
    "    a = fig.add_subplot(gs[c[0]*2,c[1]])\n",
    "    a1 = fig.add_subplot(gs[c[0]*2+1,c[1]])\n",
    "\n",
    "    mask = adata.obs[libcol] == lib\n",
    "    x = adata.obs.loc[mask,'total_counts']\n",
    "    y = adata.obs.loc[mask,'pct_counts_mito']\n",
    "    \n",
    "    #scatter\n",
    "    a.scatter(x,y,lw=0,s=5,alpha=0.1,rasterized=True)\n",
    "    a.set_xscale('log')\n",
    "    a.set_xlim(xmin,xmax)\n",
    "    a.set_ylim(0,100)\n",
    "    a.set_ylabel('% mitochondrial counts')\n",
    "    a.set_title(lib)\n",
    "    \n",
    "    #plot threshold in scatter\n",
    "    ts = ts_dict[lib]\n",
    "    a.plot((ts[0],ts[0]),(a.get_ylim()[0],ts[1]),lw=1,color='r')\n",
    "    a.plot((ts[0],a.get_xlim()[1]),(ts[1],ts[1]),lw=1,color='r')\n",
    "    pass_ts = (adata.obs.loc[mask,'total_counts']>=ts[0])&(adata.obs.loc[mask,'pct_counts_mito']<ts[1])\n",
    "    cells_pass = pass_ts.sum()\n",
    "    cells_all = len(pass_ts)\n",
    "    a.text(a.get_xlim()[1]*0.8,a.get_ylim()[1]*0.8,\n",
    "           \"%d out of %d\\ncells pass filters\"%(cells_pass,cells_all),\n",
    "           ha='right')\n",
    "    pass_filters+=(list(pass_ts.values))\n",
    "    \n",
    "    # histogram\n",
    "    bins=np.logspace(np.log10(xmin),np.log10(xmax),51)\n",
    "    hs, bins,patches = plt.hist(x,bins=bins)\n",
    "    \n",
    "    #plot barchart\n",
    "    lefts = bins[:-1]\n",
    "    rights = bins[1:]\n",
    "    a1.bar(x = lefts,width = rights-lefts,height = hs*rights,\n",
    "          align='edge',\n",
    "          lw=0.,color = 'c')\n",
    "    a1.set_xscale('log');\n",
    "    a1.set_xlim(xmin,xmax)\n",
    "    # threshold:\n",
    "    a1.plot((ts[0],ts[0]),(a1.get_ylim()[0],a1.set_ylim()[1]),lw=1,color='r')\n",
    "    a1.set_xlabel('Total counts')\n",
    "    \n",
    "    a1.set_ylabel('# counts from bin')\n",
    "           \n",
    "\n",
    "print(sum(pass_filters))\n",
    "gs.tight_layout(fig)\n",
    "!mkdir -p outputs\n",
    "plt.savefig('outputs/mito_pct_vs_total_counts.pdf',dpi=300)"
   ]
  },
  {
   "cell_type": "markdown",
   "metadata": {},
   "source": [
    "### Apply the thesholds (filter data)"
   ]
  },
  {
   "cell_type": "code",
   "execution_count": 17,
   "metadata": {},
   "outputs": [
    {
     "name": "stdout",
     "output_type": "stream",
     "text": [
      "32415 (1013570,)\n"
     ]
    }
   ],
   "source": [
    "cmask = np.repeat(True,adata.shape[0])\n",
    "\n",
    "for key,value in ts_dict.items():\n",
    "    m1 = (adata.obs[libcol] == key).values\n",
    "    tmp = adata.obs[m1]\n",
    "    m2 = (tmp['total_counts']>=value[0]).values\n",
    "    m3 = (tmp['pct_counts_mito']<value[1]).values\n",
    "    cmask[m1] = m2&m3\n",
    "    \n",
    "print(cmask.sum(),cmask.shape)"
   ]
  },
  {
   "cell_type": "code",
   "execution_count": 18,
   "metadata": {},
   "outputs": [
    {
     "name": "stdout",
     "output_type": "stream",
     "text": [
      "(1013570, 36601)\n",
      "(32415, 36601)\n"
     ]
    }
   ],
   "source": [
    "print(adata.shape)\n",
    "adata = adata[cmask]\n",
    "print(adata.shape)"
   ]
  },
  {
   "cell_type": "markdown",
   "metadata": {},
   "source": [
    "## Record in adata.obs any extra per-cell information if available"
   ]
  },
  {
   "cell_type": "code",
   "execution_count": 19,
   "metadata": {},
   "outputs": [
    {
     "data": {
      "text/plain": [
       "array(['Monocyte_1_ix2_S1', 'Monocyte_1_ix3_S2', 'Monocyte_2_ix5_S3',\n",
       "       'Monocyte_2_ix6_S4', 'Monocyte_3_ix7_S5', 'Monocyte_3_ix8_S6',\n",
       "       'Monocyte_3_ix9_S7'], dtype=object)"
      ]
     },
     "execution_count": 19,
     "metadata": {},
     "output_type": "execute_result"
    }
   ],
   "source": [
    "adata.obs['library'].unique()"
   ]
  },
  {
   "cell_type": "code",
   "execution_count": 22,
   "metadata": {},
   "outputs": [
    {
     "name": "stderr",
     "output_type": "stream",
     "text": [
      "Trying to set attribute `.obs` of view, making a copy.\n"
     ]
    }
   ],
   "source": [
    "#overwrite to hide the label\n",
    "adata.obs['library'] = [i[9:] for i in adata.obs['library']]"
   ]
  },
  {
   "cell_type": "markdown",
   "metadata": {},
   "source": [
    "### Categorical"
   ]
  },
  {
   "cell_type": "code",
   "execution_count": 23,
   "metadata": {},
   "outputs": [
    {
     "data": {
      "text/plain": [
       "array(['1', '2', '3'], dtype=object)"
      ]
     },
     "execution_count": 23,
     "metadata": {},
     "output_type": "execute_result"
    }
   ],
   "source": [
    "adata.obs['condition'] = [i[:-7] for i in adata.obs['library']]\n",
    "adata.obs['condition'].unique()"
   ]
  },
  {
   "cell_type": "code",
   "execution_count": 24,
   "metadata": {},
   "outputs": [
    {
     "data": {
      "text/html": [
       "<div>\n",
       "<style scoped>\n",
       "    .dataframe tbody tr th:only-of-type {\n",
       "        vertical-align: middle;\n",
       "    }\n",
       "\n",
       "    .dataframe tbody tr th {\n",
       "        vertical-align: top;\n",
       "    }\n",
       "\n",
       "    .dataframe thead th {\n",
       "        text-align: right;\n",
       "    }\n",
       "</style>\n",
       "<table border=\"1\" class=\"dataframe\">\n",
       "  <thead>\n",
       "    <tr style=\"text-align: right;\">\n",
       "      <th></th>\n",
       "      <th>barcode</th>\n",
       "      <th>library</th>\n",
       "      <th>total_counts</th>\n",
       "      <th>pct_counts_mito</th>\n",
       "      <th>condition</th>\n",
       "    </tr>\n",
       "  </thead>\n",
       "  <tbody>\n",
       "    <tr>\n",
       "      <th>82</th>\n",
       "      <td>AACAGCGAATACCGCA</td>\n",
       "      <td>1_ix2_S1</td>\n",
       "      <td>2560.0</td>\n",
       "      <td>6.562500</td>\n",
       "      <td>1</td>\n",
       "    </tr>\n",
       "    <tr>\n",
       "      <th>121</th>\n",
       "      <td>AACAGCGACAGAGATG</td>\n",
       "      <td>1_ix2_S1</td>\n",
       "      <td>1383.0</td>\n",
       "      <td>4.410701</td>\n",
       "      <td>1</td>\n",
       "    </tr>\n",
       "    <tr>\n",
       "      <th>130</th>\n",
       "      <td>AACAGCGACATAGCTG</td>\n",
       "      <td>1_ix2_S1</td>\n",
       "      <td>913.0</td>\n",
       "      <td>6.681271</td>\n",
       "      <td>1</td>\n",
       "    </tr>\n",
       "    <tr>\n",
       "      <th>132</th>\n",
       "      <td>AACAGCGACATCGTCT</td>\n",
       "      <td>1_ix2_S1</td>\n",
       "      <td>3974.0</td>\n",
       "      <td>2.717665</td>\n",
       "      <td>1</td>\n",
       "    </tr>\n",
       "    <tr>\n",
       "      <th>174</th>\n",
       "      <td>AACAGCGACGTCTCAT</td>\n",
       "      <td>1_ix2_S1</td>\n",
       "      <td>1988.0</td>\n",
       "      <td>2.615694</td>\n",
       "      <td>1</td>\n",
       "    </tr>\n",
       "  </tbody>\n",
       "</table>\n",
       "</div>"
      ],
      "text/plain": [
       "              barcode   library  total_counts  pct_counts_mito condition\n",
       "82   AACAGCGAATACCGCA  1_ix2_S1        2560.0         6.562500         1\n",
       "121  AACAGCGACAGAGATG  1_ix2_S1        1383.0         4.410701         1\n",
       "130  AACAGCGACATAGCTG  1_ix2_S1         913.0         6.681271         1\n",
       "132  AACAGCGACATCGTCT  1_ix2_S1        3974.0         2.717665         1\n",
       "174  AACAGCGACGTCTCAT  1_ix2_S1        1988.0         2.615694         1"
      ]
     },
     "execution_count": 24,
     "metadata": {},
     "output_type": "execute_result"
    }
   ],
   "source": [
    "adata.obs.head()"
   ]
  },
  {
   "cell_type": "code",
   "execution_count": 25,
   "metadata": {},
   "outputs": [],
   "source": [
    "# for quick selection of cells above a certain total count threshold\n",
    "ts = [1000,1500,2000]\n",
    "for i in ts:\n",
    "    adata.obs['more_than_%d_total_counts'%i] = (adata.obs['total_counts']>i).astype(str)"
   ]
  },
  {
   "cell_type": "code",
   "execution_count": 26,
   "metadata": {},
   "outputs": [
    {
     "data": {
      "text/html": [
       "<div>\n",
       "<style scoped>\n",
       "    .dataframe tbody tr th:only-of-type {\n",
       "        vertical-align: middle;\n",
       "    }\n",
       "\n",
       "    .dataframe tbody tr th {\n",
       "        vertical-align: top;\n",
       "    }\n",
       "\n",
       "    .dataframe thead th {\n",
       "        text-align: right;\n",
       "    }\n",
       "</style>\n",
       "<table border=\"1\" class=\"dataframe\">\n",
       "  <thead>\n",
       "    <tr style=\"text-align: right;\">\n",
       "      <th></th>\n",
       "      <th>barcode</th>\n",
       "      <th>library</th>\n",
       "      <th>total_counts</th>\n",
       "      <th>pct_counts_mito</th>\n",
       "      <th>condition</th>\n",
       "      <th>more_than_1000_total_counts</th>\n",
       "      <th>more_than_1500_total_counts</th>\n",
       "      <th>more_than_2000_total_counts</th>\n",
       "    </tr>\n",
       "  </thead>\n",
       "  <tbody>\n",
       "    <tr>\n",
       "      <th>82</th>\n",
       "      <td>AACAGCGAATACCGCA</td>\n",
       "      <td>1_ix2_S1</td>\n",
       "      <td>2560.0</td>\n",
       "      <td>6.562500</td>\n",
       "      <td>1</td>\n",
       "      <td>True</td>\n",
       "      <td>True</td>\n",
       "      <td>True</td>\n",
       "    </tr>\n",
       "    <tr>\n",
       "      <th>121</th>\n",
       "      <td>AACAGCGACAGAGATG</td>\n",
       "      <td>1_ix2_S1</td>\n",
       "      <td>1383.0</td>\n",
       "      <td>4.410701</td>\n",
       "      <td>1</td>\n",
       "      <td>True</td>\n",
       "      <td>False</td>\n",
       "      <td>False</td>\n",
       "    </tr>\n",
       "    <tr>\n",
       "      <th>130</th>\n",
       "      <td>AACAGCGACATAGCTG</td>\n",
       "      <td>1_ix2_S1</td>\n",
       "      <td>913.0</td>\n",
       "      <td>6.681271</td>\n",
       "      <td>1</td>\n",
       "      <td>False</td>\n",
       "      <td>False</td>\n",
       "      <td>False</td>\n",
       "    </tr>\n",
       "    <tr>\n",
       "      <th>132</th>\n",
       "      <td>AACAGCGACATCGTCT</td>\n",
       "      <td>1_ix2_S1</td>\n",
       "      <td>3974.0</td>\n",
       "      <td>2.717665</td>\n",
       "      <td>1</td>\n",
       "      <td>True</td>\n",
       "      <td>True</td>\n",
       "      <td>True</td>\n",
       "    </tr>\n",
       "    <tr>\n",
       "      <th>174</th>\n",
       "      <td>AACAGCGACGTCTCAT</td>\n",
       "      <td>1_ix2_S1</td>\n",
       "      <td>1988.0</td>\n",
       "      <td>2.615694</td>\n",
       "      <td>1</td>\n",
       "      <td>True</td>\n",
       "      <td>True</td>\n",
       "      <td>False</td>\n",
       "    </tr>\n",
       "  </tbody>\n",
       "</table>\n",
       "</div>"
      ],
      "text/plain": [
       "              barcode   library  total_counts  pct_counts_mito condition  \\\n",
       "82   AACAGCGAATACCGCA  1_ix2_S1        2560.0         6.562500         1   \n",
       "121  AACAGCGACAGAGATG  1_ix2_S1        1383.0         4.410701         1   \n",
       "130  AACAGCGACATAGCTG  1_ix2_S1         913.0         6.681271         1   \n",
       "132  AACAGCGACATCGTCT  1_ix2_S1        3974.0         2.717665         1   \n",
       "174  AACAGCGACGTCTCAT  1_ix2_S1        1988.0         2.615694         1   \n",
       "\n",
       "    more_than_1000_total_counts more_than_1500_total_counts  \\\n",
       "82                         True                        True   \n",
       "121                        True                       False   \n",
       "130                       False                       False   \n",
       "132                        True                        True   \n",
       "174                        True                        True   \n",
       "\n",
       "    more_than_2000_total_counts  \n",
       "82                         True  \n",
       "121                       False  \n",
       "130                       False  \n",
       "132                        True  \n",
       "174                       False  "
      ]
     },
     "execution_count": 26,
     "metadata": {},
     "output_type": "execute_result"
    }
   ],
   "source": [
    "adata.obs.head()"
   ]
  },
  {
   "cell_type": "markdown",
   "metadata": {},
   "source": [
    "### Numerical"
   ]
  },
  {
   "cell_type": "code",
   "execution_count": 27,
   "metadata": {},
   "outputs": [],
   "source": [
    "# number of genes detected\n",
    "adata.obs['genes_detected'] = np.array((adata.X>0).sum(axis=1)).T[0]"
   ]
  },
  {
   "cell_type": "code",
   "execution_count": 28,
   "metadata": {},
   "outputs": [
    {
     "name": "stdout",
     "output_type": "stream",
     "text": [
      "backups/mito_total_counts_filt_raw_32415x36601_210622_20h17.h5ad\n"
     ]
    },
    {
     "name": "stderr",
     "output_type": "stream",
     "text": [
      "... storing 'barcode' as categorical\n",
      "... storing 'library' as categorical\n",
      "... storing 'condition' as categorical\n",
      "... storing 'more_than_1000_total_counts' as categorical\n",
      "... storing 'more_than_1500_total_counts' as categorical\n",
      "... storing 'more_than_2000_total_counts' as categorical\n"
     ]
    },
    {
     "name": "stdout",
     "output_type": "stream",
     "text": [
      "0.8931169509887695\n",
      "backups/obs_info_32415x9_210622_20h17\n",
      "1.0973577499389648\n"
     ]
    }
   ],
   "source": [
    "# directory\n",
    "!mkdir -p backups\n",
    "\n",
    "# write the entire adata.object\n",
    "start = time.time()\n",
    "fname1 = 'backups/mito_total_counts_filt_raw_%dx%d_%s.h5ad'%(adata.shape[0],adata.shape[1],rz.now())\n",
    "print(fname1)\n",
    "adata.write(fname1)\n",
    "print(time.time()-start)\n",
    "\n",
    "# write the pandas dataframe under adata.obs as a separate file\n",
    "# this part of the AnnData object changes most, is relatively small, and backups are nice\n",
    "meta = adata.obs\n",
    "fname2 = 'backups/obs_info_%dx%d_%s'%(meta.shape[0],meta.shape[1],rz.now())\n",
    "print(fname2)\n",
    "rz.save_df(meta,fname2)\n",
    "print(time.time()-start)"
   ]
  },
  {
   "cell_type": "markdown",
   "metadata": {},
   "source": [
    "# Have a look at some stats"
   ]
  },
  {
   "cell_type": "code",
   "execution_count": 29,
   "metadata": {},
   "outputs": [
    {
     "data": {
      "text/html": [
       "<div>\n",
       "<style scoped>\n",
       "    .dataframe tbody tr th:only-of-type {\n",
       "        vertical-align: middle;\n",
       "    }\n",
       "\n",
       "    .dataframe tbody tr th {\n",
       "        vertical-align: top;\n",
       "    }\n",
       "\n",
       "    .dataframe thead th {\n",
       "        text-align: right;\n",
       "    }\n",
       "</style>\n",
       "<table border=\"1\" class=\"dataframe\">\n",
       "  <thead>\n",
       "    <tr style=\"text-align: right;\">\n",
       "      <th></th>\n",
       "      <th>barcode</th>\n",
       "      <th>library</th>\n",
       "      <th>total_counts</th>\n",
       "      <th>pct_counts_mito</th>\n",
       "      <th>condition</th>\n",
       "      <th>more_than_1000_total_counts</th>\n",
       "      <th>more_than_1500_total_counts</th>\n",
       "      <th>more_than_2000_total_counts</th>\n",
       "      <th>genes_detected</th>\n",
       "    </tr>\n",
       "  </thead>\n",
       "  <tbody>\n",
       "    <tr>\n",
       "      <th>82</th>\n",
       "      <td>AACAGCGAATACCGCA</td>\n",
       "      <td>1_ix2_S1</td>\n",
       "      <td>2560.0</td>\n",
       "      <td>6.562500</td>\n",
       "      <td>1</td>\n",
       "      <td>True</td>\n",
       "      <td>True</td>\n",
       "      <td>True</td>\n",
       "      <td>947</td>\n",
       "    </tr>\n",
       "    <tr>\n",
       "      <th>121</th>\n",
       "      <td>AACAGCGACAGAGATG</td>\n",
       "      <td>1_ix2_S1</td>\n",
       "      <td>1383.0</td>\n",
       "      <td>4.410701</td>\n",
       "      <td>1</td>\n",
       "      <td>True</td>\n",
       "      <td>False</td>\n",
       "      <td>False</td>\n",
       "      <td>595</td>\n",
       "    </tr>\n",
       "    <tr>\n",
       "      <th>130</th>\n",
       "      <td>AACAGCGACATAGCTG</td>\n",
       "      <td>1_ix2_S1</td>\n",
       "      <td>913.0</td>\n",
       "      <td>6.681271</td>\n",
       "      <td>1</td>\n",
       "      <td>False</td>\n",
       "      <td>False</td>\n",
       "      <td>False</td>\n",
       "      <td>502</td>\n",
       "    </tr>\n",
       "    <tr>\n",
       "      <th>132</th>\n",
       "      <td>AACAGCGACATCGTCT</td>\n",
       "      <td>1_ix2_S1</td>\n",
       "      <td>3974.0</td>\n",
       "      <td>2.717665</td>\n",
       "      <td>1</td>\n",
       "      <td>True</td>\n",
       "      <td>True</td>\n",
       "      <td>True</td>\n",
       "      <td>1438</td>\n",
       "    </tr>\n",
       "    <tr>\n",
       "      <th>174</th>\n",
       "      <td>AACAGCGACGTCTCAT</td>\n",
       "      <td>1_ix2_S1</td>\n",
       "      <td>1988.0</td>\n",
       "      <td>2.615694</td>\n",
       "      <td>1</td>\n",
       "      <td>True</td>\n",
       "      <td>True</td>\n",
       "      <td>False</td>\n",
       "      <td>827</td>\n",
       "    </tr>\n",
       "  </tbody>\n",
       "</table>\n",
       "</div>"
      ],
      "text/plain": [
       "              barcode   library  total_counts  pct_counts_mito condition  \\\n",
       "82   AACAGCGAATACCGCA  1_ix2_S1        2560.0         6.562500         1   \n",
       "121  AACAGCGACAGAGATG  1_ix2_S1        1383.0         4.410701         1   \n",
       "130  AACAGCGACATAGCTG  1_ix2_S1         913.0         6.681271         1   \n",
       "132  AACAGCGACATCGTCT  1_ix2_S1        3974.0         2.717665         1   \n",
       "174  AACAGCGACGTCTCAT  1_ix2_S1        1988.0         2.615694         1   \n",
       "\n",
       "    more_than_1000_total_counts more_than_1500_total_counts  \\\n",
       "82                         True                        True   \n",
       "121                        True                       False   \n",
       "130                       False                       False   \n",
       "132                        True                        True   \n",
       "174                        True                        True   \n",
       "\n",
       "    more_than_2000_total_counts  genes_detected  \n",
       "82                         True             947  \n",
       "121                       False             595  \n",
       "130                       False             502  \n",
       "132                        True            1438  \n",
       "174                       False             827  "
      ]
     },
     "execution_count": 29,
     "metadata": {},
     "output_type": "execute_result"
    }
   ],
   "source": [
    "adata.obs.head(5)"
   ]
  },
  {
   "cell_type": "code",
   "execution_count": 30,
   "metadata": {},
   "outputs": [
    {
     "data": {
      "text/plain": [
       "library\n",
       "1_ix2_S1    5003\n",
       "1_ix3_S2    5063\n",
       "2_ix5_S3    5137\n",
       "2_ix6_S4    5724\n",
       "3_ix7_S5    3334\n",
       "3_ix8_S6    4360\n",
       "3_ix9_S7    3794\n",
       "Name: barcode, dtype: int64"
      ]
     },
     "execution_count": 30,
     "metadata": {},
     "output_type": "execute_result"
    }
   ],
   "source": [
    "adata.obs.groupby('library').count().iloc[:,0]"
   ]
  },
  {
   "cell_type": "code",
   "execution_count": 31,
   "metadata": {},
   "outputs": [
    {
     "data": {
      "text/plain": [
       "condition\n",
       "1    10066\n",
       "2    10861\n",
       "3    11488\n",
       "Name: barcode, dtype: int64"
      ]
     },
     "execution_count": 31,
     "metadata": {},
     "output_type": "execute_result"
    }
   ],
   "source": [
    "adata.obs.groupby('condition').count().iloc[:,0]"
   ]
  },
  {
   "cell_type": "code",
   "execution_count": 32,
   "metadata": {},
   "outputs": [
    {
     "data": {
      "text/plain": [
       "library\n",
       "1_ix2_S1    2763.0\n",
       "1_ix3_S2    2499.0\n",
       "2_ix5_S3    1960.0\n",
       "2_ix6_S4    2023.5\n",
       "3_ix7_S5    2620.0\n",
       "3_ix8_S6    2023.0\n",
       "3_ix9_S7    2585.5\n",
       "Name: total_counts, dtype: float32"
      ]
     },
     "execution_count": 32,
     "metadata": {},
     "output_type": "execute_result"
    }
   ],
   "source": [
    "adata.obs.groupby('library').median()['total_counts']"
   ]
  },
  {
   "cell_type": "code",
   "execution_count": 33,
   "metadata": {},
   "outputs": [
    {
     "data": {
      "text/plain": [
       "library\n",
       "1_ix2_S1    1061.0\n",
       "1_ix3_S2     995.0\n",
       "2_ix5_S3     877.0\n",
       "2_ix6_S4     871.0\n",
       "3_ix7_S5    1043.5\n",
       "3_ix8_S6     769.0\n",
       "3_ix9_S7     953.0\n",
       "Name: genes_detected, dtype: float64"
      ]
     },
     "execution_count": 33,
     "metadata": {},
     "output_type": "execute_result"
    }
   ],
   "source": [
    "adata.obs.groupby('library').median()['genes_detected']"
   ]
  },
  {
   "cell_type": "code",
   "execution_count": 34,
   "metadata": {},
   "outputs": [
    {
     "data": {
      "text/plain": [
       "Index(['barcode', 'library', 'total_counts', 'pct_counts_mito', 'condition',\n",
       "       'more_than_1000_total_counts', 'more_than_1500_total_counts',\n",
       "       'more_than_2000_total_counts', 'genes_detected'],\n",
       "      dtype='object')"
      ]
     },
     "execution_count": 34,
     "metadata": {},
     "output_type": "execute_result"
    }
   ],
   "source": [
    "adata.obs.columns"
   ]
  },
  {
   "cell_type": "code",
   "execution_count": null,
   "metadata": {},
   "outputs": [],
   "source": []
  },
  {
   "cell_type": "code",
   "execution_count": null,
   "metadata": {},
   "outputs": [],
   "source": []
  }
 ],
 "metadata": {
  "kernelspec": {
   "display_name": "Python 3",
   "language": "python",
   "name": "python3"
  },
  "language_info": {
   "codemirror_mode": {
    "name": "ipython",
    "version": 3
   },
   "file_extension": ".py",
   "mimetype": "text/x-python",
   "name": "python",
   "nbconvert_exporter": "python",
   "pygments_lexer": "ipython3",
   "version": "3.6.7"
  },
  "toc": {
   "base_numbering": 1,
   "nav_menu": {},
   "number_sections": true,
   "sideBar": true,
   "skip_h1_title": true,
   "title_cell": "Table of Contents",
   "title_sidebar": "Contents",
   "toc_cell": true,
   "toc_position": {},
   "toc_section_display": true,
   "toc_window_display": true
  }
 },
 "nbformat": 4,
 "nbformat_minor": 2
}
