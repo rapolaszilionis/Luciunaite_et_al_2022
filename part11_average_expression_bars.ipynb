{
 "cells": [
  {
   "cell_type": "markdown",
   "metadata": {},
   "source": [
    "# Average expression barcharts"
   ]
  },
  {
   "cell_type": "markdown",
   "metadata": {},
   "source": [
    "## Import statements"
   ]
  },
  {
   "cell_type": "code",
   "execution_count": 1,
   "metadata": {},
   "outputs": [],
   "source": [
    "import os,sys\n",
    "import datetime"
   ]
  },
  {
   "cell_type": "code",
   "execution_count": 2,
   "metadata": {},
   "outputs": [
    {
     "name": "stdout",
     "output_type": "stream",
     "text": [
      "scanpy==1.4.4.post1 anndata==0.6.22.post1 umap==0.3.7 numpy==1.15.4 scipy==1.3.1 pandas==0.23.4 scikit-learn==0.20.1 statsmodels==0.10.1 python-igraph==0.7.1 louvain==0.6.1\n",
      "Memory usage: current 0.20 GB, difference +0.20 GB\n"
     ]
    }
   ],
   "source": [
    "import scanpy as sc\n",
    "sc.logging.print_versions()\n",
    "sc.logging.print_memory_usage()\n",
    "sc.settings.verbosity = 2"
   ]
  },
  {
   "cell_type": "code",
   "execution_count": 3,
   "metadata": {},
   "outputs": [],
   "source": [
    "import scipy.cluster\n",
    "from matplotlib_venn import venn2"
   ]
  },
  {
   "cell_type": "code",
   "execution_count": 4,
   "metadata": {},
   "outputs": [],
   "source": [
    "## This cell is run once to download my custom functions and import statements from github\n",
    "#\n",
    "#!git clone --depth=1 https://github.com/rapolaszilionis/utility_functions\n",
    "#    \n",
    "## github doesn't seem to have an option to download a specific version of the repo from the history.\n",
    "## So I download my utility functions and save the download time by appending it to the directory name.\n",
    "## These utility functions to be shared together with the notebook.\n",
    "#\n",
    "#toappend = datetime.datetime.now().strftime('%y%m%d_%Hh%M')\n",
    "#newname = \"utility_functions_%s\"%toappend\n",
    "#print(newname)\n",
    "#\n",
    "#\n",
    "## rename the py file with utility functions\n",
    "#os.rename(\"utility_functions\",newname)"
   ]
  },
  {
   "cell_type": "code",
   "execution_count": 5,
   "metadata": {},
   "outputs": [
    {
     "name": "stdout",
     "output_type": "stream",
     "text": [
      "python version: 3.6.7\n"
     ]
    }
   ],
   "source": [
    "# add the utility function folder to PATH\n",
    "sys.path.append(os.path.abspath(\"utility_functions_210525_14h42/\"))\n",
    "\n",
    "from rz_import_statements import *\n",
    "import rz_functions as rz\n",
    "import rz_fig_params # this adjust mpl.rcParams, almost nothing to import, import after scanpy to overwrite rc.Params\n",
    "import rz_utility_spring as srz"
   ]
  },
  {
   "cell_type": "markdown",
   "metadata": {},
   "source": [
    "## Load data"
   ]
  },
  {
   "cell_type": "code",
   "execution_count": 6,
   "metadata": {},
   "outputs": [],
   "source": [
    "adata = sc.read_h5ad('backups/mito_total_counts_filt_raw_32415x36601_210622_20h17.h5ad')"
   ]
  },
  {
   "cell_type": "code",
   "execution_count": 7,
   "metadata": {},
   "outputs": [],
   "source": [
    "# load obs with classifier results\n",
    "adata.obs = rz.load_df('backups/obs_info_32415x18_211010_11h51.npz')"
   ]
  },
  {
   "cell_type": "code",
   "execution_count": 8,
   "metadata": {},
   "outputs": [
    {
     "name": "stdout",
     "output_type": "stream",
     "text": [
      "normalizing by total count per cell\n",
      "    finished (0:00:00): normalized adata.X and added    'n_counts', counts per cell before normalization (adata.obs)\n"
     ]
    }
   ],
   "source": [
    "# normalize\n",
    "sc.pp.normalize_per_cell(adata,counts_per_cell_after=1e4)"
   ]
  },
  {
   "cell_type": "markdown",
   "metadata": {},
   "source": [
    "## Color dictionaries"
   ]
  },
  {
   "cell_type": "code",
   "execution_count": 9,
   "metadata": {},
   "outputs": [],
   "source": [
    "cdd = {}\n",
    "cdd['condition'] = {'Control': '#ffe500', 'KIPyV VLPs': '#00d4ff', 'MCPyV VLPs': '#00007f'}\n",
    "cdd['population'] = {\n",
    " 'AI': '#5eff0d',\n",
    " 'AII': '#49a300',\n",
    " 'Dead': '#ff9900',\n",
    " 'HA': '#114a0e',\n",
    " 'IR': '#ff0000',\n",
    " 'MA': '#00007f',\n",
    " 'PA': '#fff757',\n",
    " 'RS': '#0088ff',\n",
    " 'SS': '#0cf4e8'}"
   ]
  },
  {
   "cell_type": "markdown",
   "metadata": {},
   "source": [
    "## Get centroids"
   ]
  },
  {
   "cell_type": "code",
   "execution_count": 10,
   "metadata": {},
   "outputs": [],
   "source": [
    "centrdict = {}\n",
    "for cond in adata.obs['condition'].unique():\n",
    "    condmask = adata.obs['condition'] == cond\n",
    "    condmask = condmask.values\n",
    "    centrdict[cond] = rz.centroids(\"population\",adata[condmask])"
   ]
  },
  {
   "cell_type": "markdown",
   "metadata": {},
   "source": [
    "### Plot some gene"
   ]
  },
  {
   "cell_type": "code",
   "execution_count": 12,
   "metadata": {},
   "outputs": [
    {
     "name": "stderr",
     "output_type": "stream",
     "text": [
      "/Users/rapolaszilionis/anaconda3/lib/python3.6/site-packages/matplotlib/font_manager.py:1241: UserWarning: findfont: Font family ['Myriad Pro'] not found. Falling back to DejaVu Sans.\n",
      "  (prop.get_family(), self.defaultFamily[fontext]))\n"
     ]
    },
    {
     "data": {
      "image/png": "[encoded data removed]",
      "text/plain": [
       "<Figure size 413.386x295.276 with 1 Axes>"
      ]
     },
     "metadata": {
      "needs_background": "light"
     },
     "output_type": "display_data"
    }
   ],
   "source": [
    "gene = 'TMEM158'\n",
    "\n",
    "####################\n",
    "customorder = ['IR', 'AII', 'HA', 'AI', 'Dead', 'SS', 'RS', 'MA', 'PA']\n",
    "\n",
    "df = {}\n",
    "for key,value in centrdict.items():\n",
    "    df[key] = value[gene]\n",
    "    \n",
    "df = pd.DataFrame(df)\n",
    "df = df.loc[customorder]\n",
    "\n",
    "a,fig,gs = rz.startfig(7,5)\n",
    "\n",
    "x = np.arange(df.shape[0])*5\n",
    "\n",
    "for col in df.columns:\n",
    "    h = df[col]\n",
    "    a.bar(x,h,color=[cdd['population'][i] for i in h.index],lw=0.1,edgecolor='k')\n",
    "    x+=1\n",
    "    \n",
    "a.set_ylabel('Average expression, CP10K')\n",
    "    \n",
    "a.set_xticks(x-2)\n",
    "a.set_xticklabels(h.index)\n",
    "a.set_title(gene)\n",
    "\n",
    "gs.tight_layout(fig)\n",
    "plt.savefig(\"postannotoutputs/bars_%s.pdf\"%gene)"
   ]
  }
 ],
 "metadata": {
  "kernelspec": {
   "display_name": "Python 3",
   "language": "python",
   "name": "python3"
  },
  "language_info": {
   "codemirror_mode": {
    "name": "ipython",
    "version": 3
   },
   "file_extension": ".py",
   "mimetype": "text/x-python",
   "name": "python",
   "nbconvert_exporter": "python",
   "pygments_lexer": "ipython3",
   "version": "3.6.7"
  },
  "toc": {
   "base_numbering": 1,
   "nav_menu": {},
   "number_sections": true,
   "sideBar": true,
   "skip_h1_title": true,
   "title_cell": "Table of Contents",
   "title_sidebar": "Contents",
   "toc_cell": false,
   "toc_position": {},
   "toc_section_display": true,
   "toc_window_display": true
  }
 },
 "nbformat": 4,
 "nbformat_minor": 2
}
