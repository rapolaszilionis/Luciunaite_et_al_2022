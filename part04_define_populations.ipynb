{
 "cells": [
  {
   "cell_type": "markdown",
   "metadata": {},
   "source": [
    "# Annotate clusters"
   ]
  },
  {
   "cell_type": "markdown",
   "metadata": {},
   "source": [
    "## Import statements"
   ]
  },
  {
   "cell_type": "code",
   "execution_count": 1,
   "metadata": {},
   "outputs": [],
   "source": [
    "import os,sys\n",
    "import datetime"
   ]
  },
  {
   "cell_type": "code",
   "execution_count": 2,
   "metadata": {},
   "outputs": [
    {
     "name": "stdout",
     "output_type": "stream",
     "text": [
      "scanpy==1.4.4.post1 anndata==0.6.22.post1 umap==0.3.7 numpy==1.15.4 scipy==1.3.1 pandas==0.23.4 scikit-learn==0.20.1 statsmodels==0.10.1 python-igraph==0.7.1 louvain==0.6.1\n",
      "Memory usage: current 0.20 GB, difference +0.20 GB\n"
     ]
    }
   ],
   "source": [
    "import scanpy as sc\n",
    "sc.logging.print_versions()\n",
    "sc.logging.print_memory_usage()\n",
    "sc.settings.verbosity = 2"
   ]
  },
  {
   "cell_type": "code",
   "execution_count": 3,
   "metadata": {},
   "outputs": [],
   "source": [
    "## This cell is run once to download my custom functions and import statements from github\n",
    "#\n",
    "#!git clone --depth=1 https://github.com/rapolaszilionis/utility_functions\n",
    "#    \n",
    "## github doesn't seem to have an option to download a specific version of the repo from the history.\n",
    "## So I download my utility functions and save the download time by appending it to the directory name.\n",
    "## These utility functions to be shared together with the notebook.\n",
    "#\n",
    "#toappend = datetime.datetime.now().strftime('%y%m%d_%Hh%M')\n",
    "#newname = \"utility_functions_%s\"%toappend\n",
    "#print(newname)\n",
    "#\n",
    "#\n",
    "## rename the py file with utility functions\n",
    "#os.rename(\"utility_functions\",newname)"
   ]
  },
  {
   "cell_type": "code",
   "execution_count": 4,
   "metadata": {},
   "outputs": [
    {
     "name": "stdout",
     "output_type": "stream",
     "text": [
      "python version: 3.6.7\n"
     ]
    }
   ],
   "source": [
    "# add the utility function folder to PATH\n",
    "sys.path.append(os.path.abspath(\"utility_functions_210525_14h42/\"))\n",
    "\n",
    "from rz_import_statements import *\n",
    "import rz_functions as rz\n",
    "import rz_fig_params # this adjust mpl.rcParams, almost nothing to import, import after scanpy to overwrite rc.Params\n",
    "import rz_utility_spring as srz"
   ]
  },
  {
   "cell_type": "markdown",
   "metadata": {},
   "source": [
    "## Load per-cell metadata (obs)"
   ]
  },
  {
   "cell_type": "code",
   "execution_count": 5,
   "metadata": {},
   "outputs": [],
   "source": [
    "# load obs\n",
    "obs = rz.load_df('backups/obs_info_32415x13_210821_11h29.npz')"
   ]
  },
  {
   "cell_type": "markdown",
   "metadata": {},
   "source": [
    "## Load clustering results saved as categorical coloring in spring directory"
   ]
  },
  {
   "cell_type": "code",
   "execution_count": 6,
   "metadata": {},
   "outputs": [],
   "source": [
    "path1 = \"/Users/rapolaszilionis/Google Drive/DG/tmp_for_S3/20210616_RZ_macrophage_fastq_and_counts/quick_analysis_spring_plot/SPRING_dev-master/data/\"\n",
    "project_dir = path1+'mamito/'\n",
    "plot_name = \"all_above_900_UMAP_no_cc_2000\""
   ]
  },
  {
   "cell_type": "code",
   "execution_count": 7,
   "metadata": {},
   "outputs": [],
   "source": [
    "# load current color dictionary\n",
    "cg0 = srz.read_cell_groupings(project_dir+plot_name+'/categorical_coloring_data.json')\n",
    "\n",
    "# color dictionary\n",
    "cdd = {key:value['label_colors'] for key,value in cg0.items()}\n",
    "\n",
    "# drop the color dictionaries with are part of cell groupings\n",
    "cg0 = {key:value['label_list'] for key,value in cg0.items()}\n",
    "\n",
    "# load cell index\n",
    "cellix = np.loadtxt(project_dir+plot_name+'/cell_filter.txt',dtype=int)"
   ]
  },
  {
   "cell_type": "code",
   "execution_count": 8,
   "metadata": {},
   "outputs": [
    {
     "data": {
      "text/plain": [
       "dict_keys(['condition', 'leiden_0.3', 'leiden_0.4', 'leiden_0.5', 'leiden_0.6', 'leiden_0.7', 'leiden_0.8', 'leiden_0.9', 'leiden_1.0', 'leiden_1.5', 'leiden_2.0', 'leiden_2.5', 'leiden_3.0', 'library', 'more_than_1000_total_counts', 'more_than_1500_total_counts', 'more_than_2000_total_counts', 'phase', 'population', 'w_sp_cl_all_above_900_UMAP_no_cc_2000_10', 'w_sp_cl_all_above_900_UMAP_no_cc_2000_11', 'w_sp_cl_all_above_900_UMAP_no_cc_2000_12', 'w_sp_cl_all_above_900_UMAP_no_cc_2000_15', 'w_sp_cl_all_above_900_UMAP_no_cc_2000_8', 'w_sp_cl_all_above_900_UMAP_no_cc_2000_9'])"
      ]
     },
     "execution_count": 8,
     "metadata": {},
     "output_type": "execute_result"
    }
   ],
   "source": [
    "cg0.keys()"
   ]
  },
  {
   "cell_type": "code",
   "execution_count": 9,
   "metadata": {},
   "outputs": [],
   "source": [
    "# add a column with cluster label, select the level of granularity\n",
    "\n",
    "label = 'leiden_0.6'\n",
    "obs[label] = np.nan\n",
    "obs.iloc[cellix,-1] = cg0[label]"
   ]
  },
  {
   "cell_type": "markdown",
   "metadata": {},
   "source": [
    "## Dictionary cluster-to-name"
   ]
  },
  {
   "cell_type": "code",
   "execution_count": 10,
   "metadata": {},
   "outputs": [],
   "source": [
    "#0.6\n",
    "renamer = {\n",
    "    \"0\":\"AI\", # activation 1 (higher in Il1B)\n",
    "    \"1\":\"MA\", # metabolically active\n",
    "    \"2\":\"AII\", # activation 2\n",
    "    \"3\":\"RS\", # resting state\n",
    "    \"4\":\"SS\", # high for CD52, LMO4, CHI3L1, COX5B \n",
    "    \"5\":\"PA\", # prone to activation\n",
    "    \"6\":\"Dead\",\n",
    "    \"7\":\"HA\", #high-activation\n",
    "    \"8\":\"IR\", # interferon response (RZ, IFIT1,2,3, CXCL10, CXCL11, ISG15)\n",
    "    \"9\":\"AI\", # small cluster (36 cells) made of 3 subclusters each characterized by the expression of\n",
    "               # a single gene: AC083862.3, AC087623.2 and AC010542.4. Decision to merge\n",
    "               # with AI is based on the fact that with leiden resolution 0.5, most of cluster 9 cells\n",
    "               # end up with cluster 0 cells.\n",
    "    \"10\":\"AI\", # another microcluster (16 cells) characterized by the expression of a single gene C9orf135.\n",
    "           # also tends to be part of the same cluster as AI (\"0\") with lower leiden resolutions\n",
    "}\n",
    "\n",
    "pop_names = [renamer[i] for i in cg0[label]]"
   ]
  },
  {
   "cell_type": "code",
   "execution_count": 11,
   "metadata": {},
   "outputs": [],
   "source": [
    "# add to obs\n",
    "colname = 'population'\n",
    "obs[colname] = np.nan\n",
    "obs.iloc[cellix,-1] = pop_names"
   ]
  },
  {
   "cell_type": "code",
   "execution_count": 12,
   "metadata": {},
   "outputs": [],
   "source": [
    "cg = {colname:pop_names}"
   ]
  },
  {
   "cell_type": "markdown",
   "metadata": {},
   "source": [
    "## Also rename condition with more descriptive names"
   ]
  },
  {
   "cell_type": "code",
   "execution_count": 28,
   "metadata": {},
   "outputs": [
    {
     "data": {
      "text/plain": [
       "array(['Control', 'KIPyV VLPs', 'MCPyV VLPs'], dtype=object)"
      ]
     },
     "execution_count": 28,
     "metadata": {},
     "output_type": "execute_result"
    }
   ],
   "source": [
    "obs['condition'].unique()"
   ]
  },
  {
   "cell_type": "code",
   "execution_count": 16,
   "metadata": {},
   "outputs": [],
   "source": [
    "condrenamer = {\n",
    "    '1':'Control',\n",
    "    '2':'KIPyV VLPs',\n",
    "    '3':'MCPyV VLPs'}"
   ]
  },
  {
   "cell_type": "code",
   "execution_count": 17,
   "metadata": {},
   "outputs": [],
   "source": [
    "obs['condition_numbered'] = obs['condition'].copy()"
   ]
  },
  {
   "cell_type": "code",
   "execution_count": 18,
   "metadata": {},
   "outputs": [],
   "source": [
    "obs['condition'] = [condrenamer[i] for i in obs['condition_numbered']]"
   ]
  },
  {
   "cell_type": "code",
   "execution_count": 29,
   "metadata": {},
   "outputs": [],
   "source": [
    "cg['condition'] = list(obs['condition'].values)"
   ]
  },
  {
   "cell_type": "markdown",
   "metadata": {},
   "source": [
    "## Append colotrack to SPRING explorer"
   ]
  },
  {
   "cell_type": "code",
   "execution_count": 32,
   "metadata": {},
   "outputs": [],
   "source": [
    "# load current color dictionary\n",
    "cg0 = srz.read_cell_groupings(project_dir+plot_name+'/categorical_coloring_data.json')\n",
    "\n",
    "# color dictionary of dictionaries\n",
    "cdd = {key:value['label_colors'] for key,value in cg0.items()}"
   ]
  },
  {
   "cell_type": "code",
   "execution_count": 33,
   "metadata": {},
   "outputs": [],
   "source": [
    "# append categorical colortrack\n",
    "srz.append_cell_groupings(project_dir+plot_name,cg,colordd=cdd)"
   ]
  },
  {
   "cell_type": "markdown",
   "metadata": {},
   "source": [
    "## Save obs"
   ]
  },
  {
   "cell_type": "code",
   "execution_count": 34,
   "metadata": {},
   "outputs": [
    {
     "name": "stdout",
     "output_type": "stream",
     "text": [
      "backups/obs_info_32415x16_211010_11h50\n"
     ]
    }
   ],
   "source": [
    "# no need to save the entire adata object, counts didn't change\n",
    "\n",
    "fname = 'backups/obs_info_%dx%d_%s'%(obs.shape[0],obs.shape[1],rz.now())\n",
    "print(fname)\n",
    "rz.save_df(obs,fname)"
   ]
  }
 ],
 "metadata": {
  "kernelspec": {
   "display_name": "Python 3",
   "language": "python",
   "name": "python3"
  },
  "language_info": {
   "codemirror_mode": {
    "name": "ipython",
    "version": 3
   },
   "file_extension": ".py",
   "mimetype": "text/x-python",
   "name": "python",
   "nbconvert_exporter": "python",
   "pygments_lexer": "ipython3",
   "version": "3.6.7"
  },
  "toc": {
   "base_numbering": 1,
   "nav_menu": {},
   "number_sections": true,
   "sideBar": true,
   "skip_h1_title": true,
   "title_cell": "Table of Contents",
   "title_sidebar": "Contents",
   "toc_cell": false,
   "toc_position": {
    "height": "calc(100% - 180px)",
    "left": "10px",
    "top": "150px",
    "width": "165px"
   },
   "toc_section_display": true,
   "toc_window_display": true
  }
 },
 "nbformat": 4,
 "nbformat_minor": 2
}
