{
 "cells": [
  {
   "cell_type": "markdown",
   "metadata": {},
   "source": [
    "# Bulk-like DGE analysis"
   ]
  },
  {
   "cell_type": "markdown",
   "metadata": {},
   "source": [
    "## Import statements"
   ]
  },
  {
   "cell_type": "code",
   "execution_count": 1,
   "metadata": {},
   "outputs": [],
   "source": [
    "import os,sys\n",
    "import datetime"
   ]
  },
  {
   "cell_type": "code",
   "execution_count": 2,
   "metadata": {},
   "outputs": [
    {
     "name": "stdout",
     "output_type": "stream",
     "text": [
      "scanpy==1.4.4.post1 anndata==0.6.22.post1 umap==0.3.7 numpy==1.15.4 scipy==1.3.1 pandas==0.23.4 scikit-learn==0.20.1 statsmodels==0.10.1 python-igraph==0.7.1 louvain==0.6.1\n",
      "Memory usage: current 0.20 GB, difference +0.20 GB\n"
     ]
    }
   ],
   "source": [
    "import scanpy as sc\n",
    "sc.logging.print_versions()\n",
    "sc.logging.print_memory_usage()\n",
    "sc.settings.verbosity = 2"
   ]
  },
  {
   "cell_type": "code",
   "execution_count": 3,
   "metadata": {},
   "outputs": [],
   "source": [
    "import scipy.cluster\n",
    "from matplotlib_venn import venn2"
   ]
  },
  {
   "cell_type": "code",
   "execution_count": 4,
   "metadata": {},
   "outputs": [],
   "source": [
    "## This cell is run once to download my custom functions and import statements from github\n",
    "#\n",
    "#!git clone --depth=1 https://github.com/rapolaszilionis/utility_functions\n",
    "#    \n",
    "## github doesn't seem to have an option to download a specific version of the repo from the history.\n",
    "## So I download my utility functions and save the download time by appending it to the directory name.\n",
    "## These utility functions to be shared together with the notebook.\n",
    "#\n",
    "#toappend = datetime.datetime.now().strftime('%y%m%d_%Hh%M')\n",
    "#newname = \"utility_functions_%s\"%toappend\n",
    "#print(newname)\n",
    "#\n",
    "#\n",
    "## rename the py file with utility functions\n",
    "#os.rename(\"utility_functions\",newname)"
   ]
  },
  {
   "cell_type": "code",
   "execution_count": 5,
   "metadata": {},
   "outputs": [
    {
     "name": "stdout",
     "output_type": "stream",
     "text": [
      "python version: 3.6.7\n"
     ]
    }
   ],
   "source": [
    "# add the utility function folder to PATH\n",
    "sys.path.append(os.path.abspath(\"utility_functions_210525_14h42/\"))\n",
    "\n",
    "from rz_import_statements import *\n",
    "import rz_functions as rz\n",
    "import rz_fig_params # this adjust mpl.rcParams, almost nothing to import, import after scanpy to overwrite rc.Params\n",
    "import rz_utility_spring as srz"
   ]
  },
  {
   "cell_type": "markdown",
   "metadata": {},
   "source": [
    "## Load data"
   ]
  },
  {
   "cell_type": "code",
   "execution_count": 6,
   "metadata": {},
   "outputs": [],
   "source": [
    "adata = sc.read_h5ad('backups/mito_total_counts_filt_raw_32415x36601_210622_20h17.h5ad')"
   ]
  },
  {
   "cell_type": "code",
   "execution_count": 7,
   "metadata": {},
   "outputs": [],
   "source": [
    "# load obs with classifier results\n",
    "adata.obs = rz.load_df('backups/obs_info_32415x18_211010_11h51.npz')"
   ]
  },
  {
   "cell_type": "code",
   "execution_count": 8,
   "metadata": {},
   "outputs": [
    {
     "name": "stdout",
     "output_type": "stream",
     "text": [
      "normalizing by total count per cell\n",
      "    finished (0:00:00): normalized adata.X and added    'n_counts', counts per cell before normalization (adata.obs)\n"
     ]
    }
   ],
   "source": [
    "# normalize\n",
    "sc.pp.normalize_per_cell(adata,counts_per_cell_after=1e4)"
   ]
  },
  {
   "cell_type": "markdown",
   "metadata": {},
   "source": [
    "# Volcano plot of selected condition pairs"
   ]
  },
  {
   "cell_type": "code",
   "execution_count": 9,
   "metadata": {},
   "outputs": [
    {
     "data": {
      "text/plain": [
       "array(['Control', 'KIPyV VLPs', 'MCPyV VLPs'], dtype=object)"
      ]
     },
     "execution_count": 9,
     "metadata": {},
     "output_type": "execute_result"
    }
   ],
   "source": [
    "adata.obs.condition.unique()"
   ]
  },
  {
   "cell_type": "code",
   "execution_count": 10,
   "metadata": {},
   "outputs": [],
   "source": [
    "# pairs to compare\n",
    "pairs = {'2vs1':['Control','KIPyV VLPs'],\n",
    "        '3vs1':['Control','MCPyV VLPs'],\n",
    "        '3vs2':['KIPyV VLPs','MCPyV VLPs']}"
   ]
  },
  {
   "cell_type": "code",
   "execution_count": 11,
   "metadata": {},
   "outputs": [
    {
     "name": "stdout",
     "output_type": "stream",
     "text": [
      "32415\n"
     ]
    }
   ],
   "source": [
    "# cell to consider (e.g. pass filter)\n",
    "cmask = np.repeat(True, adata.shape[0]) #all in this case\n",
    "print(cmask.sum())"
   ]
  },
  {
   "cell_type": "markdown",
   "metadata": {},
   "source": [
    "## Get enriched genes"
   ]
  },
  {
   "cell_type": "markdown",
   "metadata": {},
   "source": [
    "### Get centroids"
   ]
  },
  {
   "cell_type": "code",
   "execution_count": 12,
   "metadata": {},
   "outputs": [],
   "source": [
    "# get centroids\n",
    "thelabel = 'condition'\n",
    "centroids = rz.centroids(thelabel,adata[cmask])"
   ]
  },
  {
   "cell_type": "markdown",
   "metadata": {},
   "source": [
    "### Prefilter genes"
   ]
  },
  {
   "cell_type": "code",
   "execution_count": 13,
   "metadata": {},
   "outputs": [],
   "source": [
    "#label-free filter to remove very low abundance genes:\n",
    "min_counts = 10\n",
    "min_cells = 5"
   ]
  },
  {
   "cell_type": "code",
   "execution_count": 14,
   "metadata": {},
   "outputs": [
    {
     "name": "stdout",
     "output_type": "stream",
     "text": [
      "11414 genes passing abundance filter\n"
     ]
    }
   ],
   "source": [
    "gmask = srz.filter_abund_genes(adata.X[cmask], min_counts, min_cells)"
   ]
  },
  {
   "cell_type": "markdown",
   "metadata": {},
   "source": [
    "### Statistical testing (+ saving results)"
   ]
  },
  {
   "cell_type": "code",
   "execution_count": 15,
   "metadata": {
    "scrolled": false
   },
   "outputs": [
    {
     "name": "stdout",
     "output_type": "stream",
     "text": [
      "1000\n",
      "2000\n",
      "3000\n",
      "4000\n",
      "5000\n",
      "6000\n",
      "7000\n",
      "8000\n",
      "9000\n",
      "10000\n",
      "11000\n",
      "2vs1 done 20927\n",
      "1000\n",
      "2000\n",
      "3000\n",
      "4000\n",
      "5000\n",
      "6000\n",
      "7000\n",
      "8000\n",
      "9000\n",
      "10000\n",
      "11000\n",
      "3vs1 done 21554\n",
      "1000\n",
      "2000\n",
      "3000\n",
      "4000\n",
      "5000\n",
      "6000\n",
      "7000\n",
      "8000\n",
      "9000\n",
      "10000\n",
      "11000\n",
      "3vs2 done 22349\n",
      "66.5364978313446\n"
     ]
    }
   ],
   "source": [
    "mwu_dict = {}\n",
    "start=time.time()\n",
    "counter=0\n",
    "\n",
    "meta = adata[cmask].obs\n",
    "E = adata[cmask].X\n",
    "gene_list = adata.var_names\n",
    "\n",
    "\n",
    "for key,pair in pairs.items():\n",
    "    mask1 = (meta[thelabel]==pair[0]).values\n",
    "    mask2 = (meta[thelabel]==pair[1]).values\n",
    "    \n",
    "    cg1 = np.array(E[:,gmask][mask1,:].todense())\n",
    "    cg2 = np.array(E[:,gmask][mask2,:].todense())\n",
    "    \n",
    "    mwu_dict[key] = rz.mwu(cg1,cg2,genes=gene_list[gmask],print_progression=True)\n",
    "    print(key, 'done',cg1.shape[0]+cg2.shape[0])\n",
    "print(time.time()-start)"
   ]
  },
  {
   "cell_type": "markdown",
   "metadata": {},
   "source": [
    "### Add fold-changes"
   ]
  },
  {
   "cell_type": "code",
   "execution_count": 16,
   "metadata": {},
   "outputs": [],
   "source": [
    "# select pseudovalue to add\n",
    "pseudo = 1 # 1 counts per 10k"
   ]
  },
  {
   "cell_type": "code",
   "execution_count": 17,
   "metadata": {},
   "outputs": [],
   "source": [
    "# add fold-change\n",
    "for value in mwu_dict.values():\n",
    "    value['FC'] = (value['mean2']+pseudo)/(value['mean1']+pseudo)"
   ]
  },
  {
   "cell_type": "markdown",
   "metadata": {},
   "source": [
    "## Plot volcanos"
   ]
  },
  {
   "cell_type": "code",
   "execution_count": 18,
   "metadata": {},
   "outputs": [
    {
     "name": "stdout",
     "output_type": "stream",
     "text": [
      "-1.025552771272997 3.614094851209176 x min max\n",
      "1.5270332741345401e-06 296.1173722682662 y min max\n",
      "-1.4218484383741197 3.6716703868845815 x min max\n",
      "0.0001652405182043773 299.83295434678666 y min max\n",
      "-0.6707808372709483 0.950519369280235 x min max\n",
      "4.8472258134759146e-05 300.47093565204096 y min max\n"
     ]
    },
    {
     "name": "stderr",
     "output_type": "stream",
     "text": [
      "/Users/rapolaszilionis/anaconda3/lib/python3.6/site-packages/matplotlib/font_manager.py:1241: UserWarning: findfont: Font family ['Myriad Pro'] not found. Falling back to DejaVu Sans.\n",
      "  (prop.get_family(), self.defaultFamily[fontext]))\n"
     ]
    },
    {
     "data": {
      "image/png": "[encoded data removed]",
      "text/plain": [
       "<Figure size 708.662x236.221 with 6 Axes>"
      ]
     },
     "metadata": {
      "needs_background": "light"
     },
     "output_type": "display_data"
    }
   ],
   "source": [
    "# threshold:\n",
    "tsfc = 1.5\n",
    "tsfdr = 0.05\n",
    "\n",
    "ysplit = 10\n",
    "\n",
    "#fig, gs = rz.startfig(20,7,rows=2,columns=3,return_first_ax=False,hrs=[10,2])\n",
    "fig, gs = rz.startfig(12,4,rows=2,columns=3,return_first_ax=False,hrs=[10,2])\n",
    "\n",
    "counter = -1\n",
    "for key,value in mwu_dict.items():\n",
    "    counter+=1\n",
    "    \n",
    "    # x and y axis\n",
    "    x = np.log2(value['FC'])\n",
    "    \n",
    "    # some FDR are zeros, replace with smallest non-zero FDR\n",
    "    ycorr = value['fdr'].copy()\n",
    "    ycorr.replace(0.,ycorr[ycorr!=0].min(),inplace=True)\n",
    "    y = -np.log10(ycorr)\n",
    "    \n",
    "    # for selecting limits\n",
    "    print(min(x),max(x),'x min max')\n",
    "    print(min(y),max(y),'y min max')\n",
    "    \n",
    "    # get up and down regulated gene numbers\n",
    "    value['log2FC'] = np.log2(value['FC']) # add log2FC\n",
    "    m1 = value['fdr']<tsfdr\n",
    "    m2 = value['log2FC']>np.log2(tsfc)\n",
    "    m3 = value['log2FC']<-np.log2(tsfc)\n",
    "    mup = (m1&m2).values\n",
    "    mdn = (m1&m3).values\n",
    "        \n",
    "    \n",
    "    ### FIGURE TOP ###\n",
    "    \n",
    "    dotcol = '0.5'\n",
    "    \n",
    "    # figure\n",
    "    a = fig.add_subplot(gs[0,counter])\n",
    "    a.scatter(x,y,color=dotcol,s=2,alpha=0.2)\n",
    "    \n",
    "    # red and blue dots on top\n",
    "    a.scatter(x[mup],y[mup],color='r',s=2)\n",
    "    a.scatter(x[mdn],y[mdn],color='b',s=2)\n",
    "    \n",
    "    # labels\n",
    "    a.set_title(key)\n",
    "    a.set_ylabel('-log10(FDR)')\n",
    "    \n",
    "    # lims\n",
    "    a.set_ylim(0,a.get_ylim()[1])\n",
    "    a.set_xlim(-4,4)\n",
    "    \n",
    "    # threshold lines\n",
    "    xleft = a.get_xlim()[0]\n",
    "    xright = a.get_xlim()[1]\n",
    "    ybot = a.get_ylim()[0]\n",
    "    ytop = a.get_ylim()[1]\n",
    "\n",
    "    # threshold lines\n",
    "    lw = 1\n",
    "    lcol = 'k'\n",
    "    \n",
    "    # left vertical\n",
    "    a.plot((-np.log2(tsfc),-np.log2(tsfc)),(-np.log10(tsfdr),ytop),color=lcol,lw=lw)\n",
    "    \n",
    "    # right vertical\n",
    "    a.plot((np.log2(tsfc),np.log2(tsfc)),(-np.log10(tsfdr),ytop),color=lcol,lw=lw)\n",
    "    \n",
    "    # left horizontal\n",
    "    a.plot((xleft,-np.log2(tsfc)),(-np.log10(tsfdr),-np.log10(tsfdr)),color=lcol,lw=lw)\n",
    "    \n",
    "    # right horizontal\n",
    "    a.plot((np.log2(tsfc),xright),(-np.log10(tsfdr),-np.log10(tsfdr)),color=lcol,lw=lw)\n",
    "    \n",
    "    # ylim\n",
    "    a.set_ylim(ysplit,ytop)\n",
    "    \n",
    "    # not ticks\n",
    "    a.set_xticks([])\n",
    "    \n",
    "    # splines\n",
    "    rz.showspines(a,top=True,left=True,right=True)\n",
    "    \n",
    "    # number of genes up and down\n",
    "    a.text(-2,ysplit,\"%d\\ngenes\"%mdn.sum(),va='bottom',ha='center')\n",
    "    a.text(2,ysplit,\"%d\\ngenes\"%mup.sum(),va='bottom',ha='center')\n",
    "    \n",
    "    \n",
    "    ### FIGURE BOTTOM ###\n",
    "    \n",
    "    # figure\n",
    "    a = fig.add_subplot(gs[1,counter])\n",
    "    a.scatter(x,y,color=dotcol,s=2,alpha=0.2)\n",
    "    \n",
    "    # red and blue dots on top\n",
    "    a.scatter(x[mup],y[mup],color='r',s=2)\n",
    "    a.scatter(x[mdn],y[mdn],color='b',s=2)\n",
    "    \n",
    "    # labels\n",
    "    a.set_xlabel('log2(fold-change)')\n",
    "    \n",
    "    # threshold lines\n",
    "    # left vertical\n",
    "    a.plot((-np.log2(tsfc),-np.log2(tsfc)),(-np.log10(tsfdr),ytop),color=lcol,lw=lw)\n",
    "    \n",
    "    # right vertical\n",
    "    a.plot((np.log2(tsfc),np.log2(tsfc)),(-np.log10(tsfdr),ytop),color=lcol,lw=lw)\n",
    "    \n",
    "    # left horizontal\n",
    "    a.plot((xleft,-np.log2(tsfc)),(-np.log10(tsfdr),-np.log10(tsfdr)),color=lcol,lw=lw)\n",
    "    \n",
    "    # right horizontal\n",
    "    a.plot((np.log2(tsfc),xright),(-np.log10(tsfdr),-np.log10(tsfdr)),color=lcol,lw=lw)\n",
    "    \n",
    "    # ylim\n",
    "    a.set_ylim(ybot,ysplit)\n",
    "    \n",
    "    # splines\n",
    "    rz.showspines(a,bottom=True,left=True,right=True)\n",
    "    \n",
    "    \n",
    "gs.tight_layout(fig)\n",
    "plt.savefig('postannotoutputs/volcanos.pdf')\n",
    "plt.savefig('postannotoutputs/volcanos.png',dpi=600)"
   ]
  },
  {
   "cell_type": "code",
   "execution_count": 19,
   "metadata": {},
   "outputs": [
    {
     "name": "stdout",
     "output_type": "stream",
     "text": [
      "2vs1 55\n",
      "postannotoutputs/bulk_DGE_2vs1_0.05_1.50.xlsx\n",
      "3vs1 66\n",
      "postannotoutputs/bulk_DGE_3vs1_0.05_1.50.xlsx\n",
      "3vs2 5\n",
      "postannotoutputs/bulk_DGE_3vs2_0.05_1.50.xlsx\n"
     ]
    }
   ],
   "source": [
    "# save dataframe with results as excel files\n",
    "chunkdict = {}\n",
    "for key,value in mwu_dict.items():\n",
    "    m1 = value['fdr']<tsfdr\n",
    "    m2 = abs(value['log2FC'])>np.log2(tsfc)\n",
    "    m3 = m1&m2\n",
    "    print(key,m3.sum())\n",
    "    chunk = value.loc[m3].sort_values('FC',ascending=False)\n",
    "    chunk['up_or_down'] = chunk['log2FC']>0\n",
    "    chunk['up_or_down'].replace(True,'up',inplace=True)\n",
    "    chunk['up_or_down'].replace(False,'down',inplace=True)\n",
    "    fname = 'postannotoutputs/bulk_DGE_%s_%.2f_%.2f.xlsx'%(key,tsfdr,tsfc)\n",
    "    print(fname)\n",
    "    chunk.to_excel(fname)\n",
    "    \n",
    "    chunkdict[key] = chunk"
   ]
  },
  {
   "cell_type": "markdown",
   "metadata": {},
   "source": [
    "## Heatmaps of enriched genes in given condition (incl. population info)"
   ]
  },
  {
   "cell_type": "code",
   "execution_count": 36,
   "metadata": {},
   "outputs": [
    {
     "name": "stdout",
     "output_type": "stream",
     "text": [
      "39\n",
      "43\n",
      "32 11 7\n"
     ]
    }
   ],
   "source": [
    "df = chunkdict['3vs1']\n",
    "up3 = df.index[df['up_or_down']=='up']\n",
    "print(len(up3))\n",
    "\n",
    "df = chunkdict['2vs1']\n",
    "up2 = df.index[df['up_or_down']=='up']\n",
    "print(len(up2))\n",
    "\n",
    "shared = [i for i in up3 if i in up2]\n",
    "only2 = [i for i in up2 if i not in up3]\n",
    "only3 = [i for i in up3 if i not in up2]\n",
    "print(len(shared),len(only2),len(only3))"
   ]
  },
  {
   "cell_type": "markdown",
   "metadata": {},
   "source": [
    "### Enriched in condition 3"
   ]
  },
  {
   "cell_type": "code",
   "execution_count": 37,
   "metadata": {},
   "outputs": [
    {
     "name": "stdout",
     "output_type": "stream",
     "text": [
      "11488 32415\n",
      "32415\n"
     ]
    }
   ],
   "source": [
    "condition = 'MCPyV VLPs'\n",
    "key = '3vs1'\n",
    "fname = 'heatmap_cond3_only_3vs1'\n",
    "\n",
    "condmask = adata.obs['condition'] == condition\n",
    "condmask = condmask.values\n",
    "print(condmask.sum(),len(condmask))\n",
    "\n",
    "# get centroids for this condition\n",
    "# cell to consider (e.g. pass filter)\n",
    "cmask = np.repeat(True, adata.shape[0]) #all in this case\n",
    "print(cmask.sum())\n",
    "\n",
    "# get centroids\n",
    "thelabel = 'population'\n",
    "centroids = rz.centroids(thelabel,adata[cmask&condmask])"
   ]
  },
  {
   "cell_type": "code",
   "execution_count": 38,
   "metadata": {},
   "outputs": [
    {
     "name": "stdout",
     "output_type": "stream",
     "text": [
      "39\n"
     ]
    }
   ],
   "source": [
    "# select only columns with gene names:\n",
    "genes = shared + only3\n",
    "print(len(genes))\n",
    "\n",
    "# select centroids expression data\n",
    "heat = centroids[genes].copy()\n",
    "\n",
    "# transform:\n",
    "heat = heat + pseudo\n",
    "heat = heat/heat.median()\n",
    "heat = np.log2(heat)\n",
    "\n",
    "#transpose\n",
    "heat = heat.T"
   ]
  },
  {
   "cell_type": "code",
   "execution_count": 39,
   "metadata": {},
   "outputs": [],
   "source": [
    "# use same column order as in other figures\n",
    "colorder = ['IR', 'AII', 'HA', 'AI', 'Dead', 'SS', 'RS', 'MA', 'PA']"
   ]
  },
  {
   "cell_type": "code",
   "execution_count": 40,
   "metadata": {},
   "outputs": [],
   "source": [
    "heat = heat[colorder]"
   ]
  },
  {
   "cell_type": "code",
   "execution_count": 41,
   "metadata": {},
   "outputs": [
    {
     "name": "stdout",
     "output_type": "stream",
     "text": [
      "-1.1444923 3.5361774\n",
      "heatmap_cond3_only_3vs1\n"
     ]
    },
    {
     "data": {
      "image/png": "[encoded data removed]",
      "text/plain": [
       "<Figure size 295.276x885.827 with 2 Axes>"
      ]
     },
     "metadata": {
      "needs_background": "light"
     },
     "output_type": "display_data"
    }
   ],
   "source": [
    "a,fig,gs = rz.startfig(5,15,frameon=False)\n",
    "\n",
    "cmap = 'RdBu_r'\n",
    "cbarlabel = 'log2[(cp10k+1)/(cp10k+1)median]'\n",
    "\n",
    "vmin=-2\n",
    "vmax=2\n",
    "print(heat.min().min(),heat.max().max())\n",
    "\n",
    "# heatmap\n",
    "hmap = a.imshow(heat,aspect='auto',vmin=vmin,vmax=vmax,cmap=cmap)\n",
    "\n",
    "# x ticks\n",
    "a.set_xticks(np.arange(heat.shape[1]))\n",
    "a.set_xticklabels(heat.columns,rotation=270)\n",
    "a.xaxis.tick_top()\n",
    "\n",
    "# y ticks\n",
    "a.set_yticks(range(heat.shape[0]))\n",
    "a.set_yticklabels(heat.index)\n",
    "\n",
    "# colorbar\n",
    "cbar = fig.colorbar(hmap,orientation='horizontal')\n",
    "cbar.outline.set_visible(False)\n",
    "\n",
    "c = [vmin,0,vmax]\n",
    "clabs = [\"<\"+str(c[0])]+[str(i) for i in c[1:-1]]+[\">\"+str(c[-1])]\n",
    "cbar.set_ticks(c)\n",
    "cbar.set_ticklabels(clabs)\n",
    "cbar.set_label(cbarlabel)\n",
    "\n",
    "\n",
    "gs.tight_layout(fig)\n",
    "print(fname)\n",
    "plt.savefig('postannotoutputs/%s.pdf'%fname,dpi=600)"
   ]
  },
  {
   "cell_type": "markdown",
   "metadata": {},
   "source": [
    "### Enriched on condition 2"
   ]
  },
  {
   "cell_type": "code",
   "execution_count": 42,
   "metadata": {},
   "outputs": [
    {
     "name": "stdout",
     "output_type": "stream",
     "text": [
      "10861 32415\n",
      "32415\n"
     ]
    }
   ],
   "source": [
    "condition = 'KIPyV VLPs'\n",
    "key = '2vs1'\n",
    "fname = 'heatmap_cond2_only_2vs1'\n",
    "\n",
    "condmask = adata.obs['condition'] == condition\n",
    "condmask = condmask.values\n",
    "print(condmask.sum(),len(condmask))\n",
    "\n",
    "# get centroids for this condition\n",
    "# cell to consider (e.g. pass filter)\n",
    "cmask = np.repeat(True, adata.shape[0]) #all in this case\n",
    "print(cmask.sum())\n",
    "\n",
    "# get centroids\n",
    "thelabel = 'population'\n",
    "centroids = rz.centroids(thelabel,adata[cmask&condmask])"
   ]
  },
  {
   "cell_type": "code",
   "execution_count": 43,
   "metadata": {},
   "outputs": [
    {
     "name": "stdout",
     "output_type": "stream",
     "text": [
      "43\n"
     ]
    }
   ],
   "source": [
    "# select only columns with gene names:\n",
    "genes = shared + only2\n",
    "print(len(genes))\n",
    "\n",
    "# select centroids expression data\n",
    "heat = centroids[genes].copy()\n",
    "\n",
    "# transform:\n",
    "heat = heat + pseudo\n",
    "heat = heat/heat.median()\n",
    "heat = np.log2(heat)\n",
    "\n",
    "#transpose\n",
    "heat = heat.T\n",
    "\n",
    "# apply same column order as above\n",
    "heat = heat[colorder]"
   ]
  },
  {
   "cell_type": "code",
   "execution_count": 44,
   "metadata": {},
   "outputs": [
    {
     "name": "stdout",
     "output_type": "stream",
     "text": [
      "-0.97354496 2.8092551\n",
      "heatmap_cond2_only_2vs1\n"
     ]
    },
    {
     "data": {
      "image/png": "[encoded data removed]",
      "text/plain": [
       "<Figure size 295.276x1009.84 with 2 Axes>"
      ]
     },
     "metadata": {
      "needs_background": "light"
     },
     "output_type": "display_data"
    }
   ],
   "source": [
    "a,fig,gs = rz.startfig(5,17.1,frameon=False)\n",
    "\n",
    "cmap = 'RdBu_r'\n",
    "cbarlabel = 'log2[(cp10k+1)/(cp10k+1)median]'\n",
    "\n",
    "vmin=-2\n",
    "vmax=2\n",
    "print(heat.min().min(),heat.max().max())\n",
    "\n",
    "# heatmap\n",
    "hmap = a.imshow(heat,aspect='auto',vmin=vmin,vmax=vmax,cmap=cmap)\n",
    "\n",
    "# x ticks\n",
    "a.set_xticks(np.arange(heat.shape[1]))\n",
    "a.set_xticklabels(heat.columns,rotation=270)\n",
    "a.xaxis.tick_top()\n",
    "\n",
    "# y ticks\n",
    "a.set_yticks(range(heat.shape[0]))\n",
    "a.set_yticklabels(heat.index)\n",
    "\n",
    "# colorbar\n",
    "cbar = fig.colorbar(hmap,orientation='horizontal')\n",
    "cbar.outline.set_visible(False)\n",
    "\n",
    "c = [vmin,0,vmax]\n",
    "clabs = [\"<\"+str(c[0])]+[str(i) for i in c[1:-1]]+[\">\"+str(c[-1])]\n",
    "cbar.set_ticks(c)\n",
    "cbar.set_ticklabels(clabs)\n",
    "cbar.set_label(cbarlabel)\n",
    "\n",
    "\n",
    "gs.tight_layout(fig)\n",
    "print(fname)\n",
    "plt.savefig('postannotoutputs/%s.pdf'%fname,dpi=600)"
   ]
  },
  {
   "cell_type": "markdown",
   "metadata": {},
   "source": [
    "## Venn diagram showing overlap"
   ]
  },
  {
   "cell_type": "code",
   "execution_count": 47,
   "metadata": {},
   "outputs": [],
   "source": [
    "from matplotlib_venn import venn2, venn2_circles"
   ]
  },
  {
   "cell_type": "code",
   "execution_count": null,
   "metadata": {},
   "outputs": [],
   "source": [
    "###\n",
    "3vs1':['Control','MCPyV VLPs'],\n",
    "        '3vs2':['KIPyV VLPs','MCPyV VLPs']"
   ]
  },
  {
   "cell_type": "code",
   "execution_count": 50,
   "metadata": {},
   "outputs": [
    {
     "data": {
      "image/png": "[encoded data removed]",
      "text/plain": [
       "<Figure size 295.276x295.276 with 1 Axes>"
      ]
     },
     "metadata": {},
     "output_type": "display_data"
    }
   ],
   "source": [
    "a,fig,gs = rz.startfig(5,5)\n",
    "venn2([set(up2),set(up3)],set_labels=['KIPyV VLPs\\nvs\\nControl',\n",
    "                                      'MCPyV VLPs\\nvs\\nControl'],ax=a,set_colors=('#00d5ff','#ffe600'))\n",
    "venn2_circles([set(up2),set(up3)],ax=a,lw=1)\n",
    "\n",
    "\n",
    "gs.tight_layout(fig)\n",
    "plt.savefig('postannotoutputs/venn_upregulated.pdf')"
   ]
  },
  {
   "cell_type": "code",
   "execution_count": 51,
   "metadata": {},
   "outputs": [
    {
     "name": "stdout",
     "output_type": "stream",
     "text": [
      "['CCL3L1', 'CXCL8', 'CCL3', 'SOD2', 'CCL4L2', 'CCL4', 'CCL20', 'CXCL3', 'SERPINE2', 'NFKBIA', 'MT2A', 'IL1B', 'CXCL1', 'EBI3', 'SAT1', 'KYNU', 'RGS16', 'CXCL2', 'IER3', 'TNF', 'MMP8', 'AC243829.4', 'S100A11', 'FTH1', 'CCL5', 'BCL2A1', 'NAMPT', 'IGFBP3', 'STC1', 'CD44', 'PRDX1', 'MMP1']\n",
      "\n",
      "['ISG15', 'CSTB', 'MT-ND3', 'SRGN', 'IFI6', 'CXCL10', 'SLC7A11']\n",
      "\n",
      "['PPIF', 'P3H2', 'CD82', 'SQSTM1', 'UBC', 'MFSD2A', 'BEST1', 'MSC', 'GNG11', 'SLC39A14', 'MT-ATP6']\n"
     ]
    }
   ],
   "source": [
    "print(shared)\n",
    "print()\n",
    "print(only3)\n",
    "print()\n",
    "print(only2)"
   ]
  },
  {
   "cell_type": "markdown",
   "metadata": {},
   "source": [
    "## Abundance fold-change barcharts"
   ]
  },
  {
   "cell_type": "code",
   "execution_count": 72,
   "metadata": {},
   "outputs": [],
   "source": [
    "# color dictionary used in other figures\n",
    "cdict = {\n",
    "'AI': '#5eff0d',\n",
    "'AII': '#49a300',\n",
    "'Dead': '#ff9900',\n",
    "'HA': '#114a0e',\n",
    "'IR': '#ff0000',\n",
    "'MA': '#00007f',\n",
    "'PA': '#fff757',\n",
    "'RS': '#0088ff',\n",
    "'SS': '#0cf4e8'\n",
    "}"
   ]
  },
  {
   "cell_type": "code",
   "execution_count": 73,
   "metadata": {},
   "outputs": [
    {
     "name": "stdout",
     "output_type": "stream",
     "text": [
      "10066\n"
     ]
    },
    {
     "data": {
      "text/plain": [
       "population\n",
       "AI       1.122591\n",
       "AII      1.142460\n",
       "Dead     1.629247\n",
       "HA       0.566263\n",
       "IR       0.079475\n",
       "MA      36.379893\n",
       "PA      21.766342\n",
       "RS      30.439102\n",
       "SS       6.874627\n",
       "Name: barcode, dtype: float64"
      ]
     },
     "execution_count": 73,
     "metadata": {},
     "output_type": "execute_result"
    }
   ],
   "source": [
    "refcond = 'Control'\n",
    "pseudopct = 0.0\n",
    "\n",
    "refcondmask = adata.obs['condition'] == refcond\n",
    "refcondmask = refcondmask.values\n",
    "print(refcondmask.sum())\n",
    "\n",
    "refcount = adata.obs[refcondmask].groupby('population').count().iloc[:,0]\n",
    "refpct = refcount/refcount.sum()*100.\n",
    "refpct"
   ]
  },
  {
   "cell_type": "markdown",
   "metadata": {},
   "source": [
    "### 2 vs 1"
   ]
  },
  {
   "cell_type": "code",
   "execution_count": 74,
   "metadata": {},
   "outputs": [
    {
     "name": "stdout",
     "output_type": "stream",
     "text": [
      "abundance_fold_change_barchart_cond_KIPyV VLPs\n"
     ]
    }
   ],
   "source": [
    "cond = 'KIPyV VLPs'\n",
    "fname = 'abundance_fold_change_barchart_cond_'+cond\n",
    "print(fname)"
   ]
  },
  {
   "cell_type": "code",
   "execution_count": 75,
   "metadata": {},
   "outputs": [
    {
     "name": "stdout",
     "output_type": "stream",
     "text": [
      "10861\n",
      "population\n",
      "AI      43.430623\n",
      "AII     20.292791\n",
      "Dead     6.380628\n",
      "HA       3.498757\n",
      "IR       0.184145\n",
      "MA      10.625173\n",
      "PA       3.397477\n",
      "RS       1.620477\n",
      "SS      10.569929\n",
      "Name: barcode, dtype: float64\n"
     ]
    },
    {
     "data": {
      "image/png": "[encoded data removed]",
      "text/plain": [
       "<Figure size 295.276x295.276 with 1 Axes>"
      ]
     },
     "metadata": {
      "needs_background": "light"
     },
     "output_type": "display_data"
    }
   ],
   "source": [
    "condmask = adata.obs['condition'] == cond\n",
    "condmask = condmask.values\n",
    "print(condmask.sum())\n",
    "\n",
    "counts = adata.obs[condmask].groupby('population').count().iloc[:,0]\n",
    "pct = counts/counts.sum()*100.\n",
    "print(pct)\n",
    "\n",
    "r = (pct+pseudopct)/(refpct+pseudopct)\n",
    "logr = np.log2(r)\n",
    "logr = logr[colorder]\n",
    "colors = [cdict[i] for i in colorder]\n",
    "\n",
    "a,fig,gs = rz.startfig(5,5)\n",
    "x = np.arange(len(logr))\n",
    "a.bar(x,logr,zorder=2,color=colors,edgecolor='k',lw=0.1)\n",
    "a.set_xticks(x)\n",
    "a.set_xticklabels(logr.index,rotation = 90);\n",
    "a.grid(zorder=0)\n",
    "a.set_ylim(-6,6)\n",
    "a.set_ylabel('log2(fold-change abundance)')\n",
    "gs.tight_layout(fig)\n",
    "\n",
    "plt.savefig('postannotoutputs/%s.pdf'%fname)"
   ]
  },
  {
   "cell_type": "markdown",
   "metadata": {},
   "source": [
    "### 3 vs 1"
   ]
  },
  {
   "cell_type": "code",
   "execution_count": 76,
   "metadata": {},
   "outputs": [
    {
     "name": "stdout",
     "output_type": "stream",
     "text": [
      "abundance_fold_change_barchart_cond_MCPyV VLPs\n"
     ]
    }
   ],
   "source": [
    "cond = 'MCPyV VLPs'\n",
    "fname = 'abundance_fold_change_barchart_cond_'+cond\n",
    "print(fname)"
   ]
  },
  {
   "cell_type": "code",
   "execution_count": 77,
   "metadata": {},
   "outputs": [
    {
     "name": "stdout",
     "output_type": "stream",
     "text": [
      "11488\n",
      "population\n",
      "AI      27.750696\n",
      "AII     27.211003\n",
      "Dead     4.735376\n",
      "HA       5.771240\n",
      "IR       2.332869\n",
      "MA      14.554318\n",
      "PA       3.542827\n",
      "RS       1.418872\n",
      "SS      12.682799\n",
      "Name: barcode, dtype: float64\n"
     ]
    },
    {
     "data": {
      "image/png": "[encoded data removed]",
      "text/plain": [
       "<Figure size 295.276x295.276 with 1 Axes>"
      ]
     },
     "metadata": {
      "needs_background": "light"
     },
     "output_type": "display_data"
    }
   ],
   "source": [
    "condmask = adata.obs['condition'] == cond\n",
    "condmask = condmask.values\n",
    "print(condmask.sum())\n",
    "\n",
    "counts = adata.obs[condmask].groupby('population').count().iloc[:,0]\n",
    "pct = counts/counts.sum()*100.\n",
    "print(pct)\n",
    "\n",
    "r = (pct+pseudopct)/(refpct+pseudopct)\n",
    "logr = np.log2(r)\n",
    "logr = logr[colorder]\n",
    "colors = [cdict[i] for i in colorder]\n",
    "\n",
    "a,fig,gs = rz.startfig(5,5)\n",
    "x = np.arange(len(logr))\n",
    "a.bar(x,logr,zorder=2,color=colors,edgecolor='k',lw=0.1)\n",
    "a.set_xticks(x)\n",
    "a.set_xticklabels(logr.index,rotation = 90);\n",
    "a.grid(zorder=0)\n",
    "a.set_ylim(-6,6)\n",
    "a.set_ylabel('log2(fold-change abundance)')\n",
    "gs.tight_layout(fig)\n",
    "\n",
    "plt.savefig('postannotoutputs/%s.pdf'%fname)"
   ]
  },
  {
   "cell_type": "markdown",
   "metadata": {},
   "source": [
    "### 3 vs 2"
   ]
  },
  {
   "cell_type": "code",
   "execution_count": 78,
   "metadata": {},
   "outputs": [
    {
     "name": "stdout",
     "output_type": "stream",
     "text": [
      "10861\n"
     ]
    }
   ],
   "source": [
    "refcond = 'KIPyV VLPs'\n",
    "\n",
    "refcondmask = adata.obs['condition'] == refcond\n",
    "refcondmask = refcondmask.values\n",
    "print(refcondmask.sum())\n",
    "\n",
    "refcount = adata.obs[refcondmask].groupby('population').count().iloc[:,0]\n",
    "refpct = refcount/refcount.sum()*100."
   ]
  },
  {
   "cell_type": "code",
   "execution_count": 79,
   "metadata": {},
   "outputs": [
    {
     "name": "stdout",
     "output_type": "stream",
     "text": [
      "abundance_fold_change_barchart_cond_MCPyV VLPs_vs_KIPyV VLPs\n"
     ]
    }
   ],
   "source": [
    "cond = 'MCPyV VLPs'\n",
    "fname = 'abundance_fold_change_barchart_cond_%s_vs_%s'%(cond,refcond)\n",
    "print(fname)"
   ]
  },
  {
   "cell_type": "code",
   "execution_count": 80,
   "metadata": {},
   "outputs": [
    {
     "name": "stdout",
     "output_type": "stream",
     "text": [
      "11488\n",
      "population\n",
      "AI      27.750696\n",
      "AII     27.211003\n",
      "Dead     4.735376\n",
      "HA       5.771240\n",
      "IR       2.332869\n",
      "MA      14.554318\n",
      "PA       3.542827\n",
      "RS       1.418872\n",
      "SS      12.682799\n",
      "Name: barcode, dtype: float64\n"
     ]
    },
    {
     "data": {
      "image/png": "[encoded data removed]",
      "text/plain": [
       "<Figure size 295.276x295.276 with 1 Axes>"
      ]
     },
     "metadata": {
      "needs_background": "light"
     },
     "output_type": "display_data"
    }
   ],
   "source": [
    "condmask = adata.obs['condition'] == cond\n",
    "condmask = condmask.values\n",
    "print(condmask.sum())\n",
    "\n",
    "counts = adata.obs[condmask].groupby('population').count().iloc[:,0]\n",
    "pct = counts/counts.sum()*100.\n",
    "print(pct)\n",
    "\n",
    "r = (pct+pseudopct)/(refpct+pseudopct)\n",
    "logr = np.log2(r)\n",
    "logr = logr[colorder]\n",
    "colors = [cdict[i] for i in colorder]\n",
    "\n",
    "a,fig,gs = rz.startfig(5,5)\n",
    "x = np.arange(len(logr))\n",
    "a.bar(x,logr,zorder=2,color=colors,edgecolor='k',lw=0.1)\n",
    "a.set_xticks(x)\n",
    "a.set_xticklabels(logr.index,rotation = 90);\n",
    "a.grid(zorder=0)\n",
    "a.set_ylim(-6,6)\n",
    "a.set_ylabel('log2(fold-change abundance)')\n",
    "gs.tight_layout(fig)\n",
    "\n",
    "plt.savefig('postannotoutputs/%s.pdf'%fname)"
   ]
  },
  {
   "cell_type": "code",
   "execution_count": 288,
   "metadata": {},
   "outputs": [],
   "source": [
    "!open postannotoutputs/"
   ]
  },
  {
   "cell_type": "code",
   "execution_count": null,
   "metadata": {},
   "outputs": [],
   "source": []
  }
 ],
 "metadata": {
  "kernelspec": {
   "display_name": "Python 3",
   "language": "python",
   "name": "python3"
  },
  "language_info": {
   "codemirror_mode": {
    "name": "ipython",
    "version": 3
   },
   "file_extension": ".py",
   "mimetype": "text/x-python",
   "name": "python",
   "nbconvert_exporter": "python",
   "pygments_lexer": "ipython3",
   "version": "3.6.7"
  },
  "toc": {
   "base_numbering": 1,
   "nav_menu": {},
   "number_sections": true,
   "sideBar": true,
   "skip_h1_title": true,
   "title_cell": "Table of Contents",
   "title_sidebar": "Contents",
   "toc_cell": false,
   "toc_position": {},
   "toc_section_display": true,
   "toc_window_display": true
  }
 },
 "nbformat": 4,
 "nbformat_minor": 2
}
